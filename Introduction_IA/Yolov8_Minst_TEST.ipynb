{
  "nbformat": 4,
  "nbformat_minor": 0,
  "metadata": {
    "colab": {
      "provenance": [],
      "machine_shape": "hm",
      "gpuType": "T4",
      "authorship_tag": "ABX9TyOc6xvNBkBStS5YUQoTP6sF",
      "include_colab_link": true
    },
    "kernelspec": {
      "name": "python3",
      "display_name": "Python 3"
    },
    "language_info": {
      "name": "python"
    },
    "accelerator": "GPU"
  },
  "cells": [
    {
      "cell_type": "markdown",
      "metadata": {
        "id": "view-in-github",
        "colab_type": "text"
      },
      "source": [
        "<a href=\"https://colab.research.google.com/github/Didier06/IA_FABLAB/blob/main/Introduction_IA/Yolov8_Minst_TEST.ipynb\" target=\"_parent\"><img src=\"https://colab.research.google.com/assets/colab-badge.svg\" alt=\"Open In Colab\"/></a>"
      ]
    },
    {
      "cell_type": "code",
      "execution_count": null,
      "metadata": {
        "id": "PaCCj2rOzf1m"
      },
      "outputs": [],
      "source": [
        "# ======================================================\n",
        "#   MNIST multi-chiffres avec YOLOv8m (Ultralytics)\n",
        "# ======================================================\n",
        "\n",
        "!pip install ultralytics torchvision tqdm pyyaml --quiet\n",
        "\n",
        "from torchvision import datasets\n",
        "from PIL import Image\n",
        "import random, os, yaml\n",
        "from tqdm import tqdm"
      ]
    },
    {
      "cell_type": "code",
      "source": [
        "# ======================================================\n",
        "# 1️⃣ Monter Google Drive pour sauvegarder le modèle\n",
        "# ======================================================\n",
        "\n",
        "from google.colab import drive\n",
        "drive.mount('/content/drive')\n",
        "\n",
        "save_dir = \"/content/drive/MyDrive/MNIST_YOLOv8m\"\n",
        "os.makedirs(save_dir, exist_ok=True)\n",
        "print(f\"📁 Modèle sera sauvegardé dans : {save_dir}\")"
      ],
      "metadata": {
        "id": "kTJNy3QNztkf"
      },
      "execution_count": null,
      "outputs": []
    },
    {
      "cell_type": "code",
      "source": [
        "# ======================================================\n",
        "# 6️⃣ Test de prédiction (sur ton modèle sauvegardé sur Drive)\n",
        "# ======================================================\n",
        "from ultralytics import YOLO\n",
        "chemin = \"/content/drive/MyDrive/IA/yolo_mnist_training/\"\n",
        "# Chemin vers le modèle entraîné (best.pt sur ton Drive)\n",
        "model_path = chemin +\"mnist_yolo_run/weights/best.pt\"\n",
        "\n",
        "# Charger le modèle final\n",
        "model = YOLO(model_path)\n",
        "\n",
        "# Image de test\n",
        "test_image = chemin + \"images/val/10.jpg\"\n",
        "\n",
        "# Lancer la prédiction et sauvegarder le résultat\n",
        "results = model.predict(source=test_image, save=True, imgsz=320)\n",
        "\n",
        "# Afficher la prédiction directement dans Colab\n",
        "results[0].show()\n"
      ],
      "metadata": {
        "id": "JNHeDf4D4nB4"
      },
      "execution_count": null,
      "outputs": []
    },
    {
      "cell_type": "code",
      "source": [
        "from ultralytics import YOLO\n",
        "chemin = \"/content/drive/MyDrive/IA/yolo_mnist_training/\"\n",
        "# Charger ton modèle\n",
        "model = YOLO(chemin + \"mnist_yolo_run/weights/best.pt\")\n",
        "\n",
        "# Faire la prédiction (sans sauvegarde automatique)\n",
        "results = model.predict(source= chemin + \"images/val/52.jpg\", save=False, imgsz=320)\n",
        "\n",
        "# Afficher sans les probabilités\n",
        "results[0].plot(conf=False, labels=False, save=True)\n"
      ],
      "metadata": {
        "id": "yZnOFlXfbI-S"
      },
      "execution_count": null,
      "outputs": []
    },
    {
      "cell_type": "code",
      "source": [
        "# ======================================================\n",
        "# Test YOLOv8 — affichage sans probas + comptage visuel des classes\n",
        "# ======================================================\n",
        "from ultralytics import YOLO\n",
        "from collections import Counter\n",
        "import pandas as pd\n",
        "import matplotlib.pyplot as plt\n",
        "from IPython.display import Image, display\n",
        "import os\n",
        "chemin = \"/content/drive/MyDrive/IA/yolo_mnist_training/\"\n",
        "# 1️⃣ Charger le modèle\n",
        "model = YOLO(chemin +\"mnist_yolo_run/weights/best.pt\")\n",
        "\n",
        "# 2️⃣ Lancer la prédiction sans sauvegarde automatique\n",
        "nom_fichier = \"100.jpg\"\n",
        "results = model.predict(source= chemin + \"images/val/\" + nom_fichier, save=False, imgsz=320)\n",
        "\n",
        "# 3️⃣ Générer et sauvegarder l’image propre (sans probas ni labels)\n",
        "output_dir = chemin +\"mnist_yolo_run/predictions\"\n",
        "os.makedirs(output_dir, exist_ok=True)\n",
        "output_path = os.path.join(output_dir, \"clean_\"+nom_fichier)\n",
        "\n",
        "# La fonction plot() retourne l’image → on la sauvegarde proprement\n",
        "img_clean = results[0].plot(conf=False, labels=False)\n",
        "import cv2\n",
        "cv2.imwrite(output_path, cv2.cvtColor(img_clean, cv2.COLOR_RGB2BGR))\n",
        "\n",
        "# 4️⃣ Afficher l’image dans Colab\n",
        "display(Image(filename=output_path))\n",
        "print(f\"🖼️ Image sauvegardée : {output_path}\")\n",
        "\n",
        "# ======================================================\n",
        "# 5️⃣ Comptage des classes détectées\n",
        "# ======================================================\n",
        "classes = results[0].boxes.cls.cpu().numpy().astype(int)\n",
        "counts = Counter(classes)\n",
        "\n",
        "if counts:\n",
        "    # Affichage textuel\n",
        "    summary = \", \".join([f\"{cls}:{count}\" for cls, count in counts.items()])\n",
        "    print(f\"📊 Détections : {summary}\")\n",
        "\n",
        "    # Tableau de comptage\n",
        "    df = pd.DataFrame(list(counts.items()), columns=[\"Classe\", \"Occurrences\"])\n",
        "    #display(df)\n",
        "\n",
        "    # 6️⃣ Histogramme (barres)\n",
        "    plt.figure(figsize=(6,4))\n",
        "    plt.bar(df[\"Classe\"].astype(str), df[\"Occurrences\"], color=\"skyblue\")\n",
        "    plt.xlabel(\"Classe détectée\")\n",
        "    plt.ylabel(\"Occurrences\")\n",
        "    plt.title(\"Histogramme des classes détectées\")\n",
        "    plt.show()\n",
        "\n",
        "else:\n",
        "    print(\"❌ Aucune détection trouvée sur cette image.\")\n"
      ],
      "metadata": {
        "id": "yXPdYKNWb1ct"
      },
      "execution_count": null,
      "outputs": []
    }
  ]
}