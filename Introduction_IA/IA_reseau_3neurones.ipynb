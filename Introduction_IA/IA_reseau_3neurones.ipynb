{
 "cells": [
  {
   "cell_type": "markdown",
   "metadata": {},
   "source": [
    "# Votre premier réseau avec un neurone en utilisant la bibliothèque keras 2.0\n",
    "Modifiez le learning rate, le nombre d'epochs ...."
   ]
  },
  {
   "cell_type": "code",
   "execution_count": 7,
   "metadata": {},
   "outputs": [
    {
     "name": "stdout",
     "output_type": "stream",
     "text": [
      "\n",
      "Weights: \n",
      "\n",
      "[array([[1., 1., 1.],\n",
      "       [1., 1., 1.]], dtype=float32), array([0., 0., 0.], dtype=float32)]\n",
      "prédictions  :\n",
      "\n",
      "1/1 [==============================] - 0s 50ms/step\n",
      "[[0.9093803]]\n"
     ]
    }
   ],
   "source": [
    "from keras.models import Sequential \n",
    "from keras.layers import Dense \n",
    "from keras import initializers\n",
    "from keras.optimizers import SGD, Adam\n",
    "import numpy as np\n",
    "\n",
    "#my_init = initializers.Zeros() \n",
    "my_init = initializers.Ones()\n",
    "#my_init = initializers.RandomUniform(minval=0.0, maxval=1.0)\n",
    "#normalizer = preprocessing.Normalization()\n",
    "model=Sequential() # network with linear layer only\n",
    "#pour La couche d'entrée, input_shape doit être égale à 1 + couche 3 neurones units = 3\n",
    "model.add(Dense(units=3,input_shape=[2],activation= 'sigmoid',kernel_initializer = my_init))\n",
    "model.add(Dense(units=1,activation= 'sigmoid'))\n",
    "\n",
    "#Création du réseau (\"adam \"alternatif à \"sgd\")\n",
    "#opt = SGD(learning_rate=0.01) #w = w - learning_rate * gradient\n",
    "\n",
    "opt = Adam(learning_rate=0.5) # learning rate : pas d'apprentissage pour la correction de l'erreur\n",
    "#model.compile(loss='mean_squared_error',optimizer=opt)\n",
    "\n",
    "print(\"\")\n",
    "print(\"Weights: \\n\")\n",
    "print(model.layers[0].get_weights())\n",
    "\n",
    "\n",
    "#set weights layer 0\n",
    "coeff = np.array([[-1.,1,-0.5],[2,1,-1]])\n",
    "biais = np.array([0,-2,3])\n",
    "poids = [coeff,biais]\n",
    "model.layers[0].set_weights(poids)\n",
    "#Print weights\n",
    "#set weights layer 1\n",
    "coeff = np.array([[1.0],[1.0],[1]])\n",
    "biais = np.array([0])\n",
    "poids = [coeff,biais]\n",
    "model.layers[1].set_weights(poids)\n",
    "#print(\"pertes :\",hist.history['loss'][-1])\n",
    "#Prédire les nombres\n",
    "print(\"prédictions  :\\n\")\n",
    "entree1 = np.array( [[1,2]])\n",
    "print(model.predict(entree1))\n"
   ]
  },
  {
   "cell_type": "code",
   "execution_count": 8,
   "metadata": {},
   "outputs": [
    {
     "name": "stdout",
     "output_type": "stream",
     "text": [
      "1250/1250 [==============================] - 1s 931us/step\n",
      "[[0.7407842]\n",
      " [0.7404409]\n",
      " [0.7401151]\n",
      " ...\n",
      " [0.8807784]\n",
      " [0.8807766]\n",
      " [0.8807748]]\n"
     ]
    },
    {
     "data": {
      "text/plain": [
       "(<Figure size 600x600 with 1 Axes>,\n",
       " <Axes: title={'center': 'Domaines de décision ...'}>)"
      ]
     },
     "execution_count": 8,
     "metadata": {},
     "output_type": "execute_result"
    },
    {
     "data": {
      "image/png": "[encoded data removed]",
      "text/plain": [
       "<Figure size 800x800 with 1 Axes>"
      ]
     },
     "metadata": {},
     "output_type": "display_data"
    },
    {
     "data": {
      "image/png": "[encoded data removed]",
      "text/plain": [
       "<Figure size 600x600 with 1 Axes>"
      ]
     },
     "metadata": {},
     "output_type": "display_data"
    }
   ],
   "source": [
    "import matplotlib as mpl\n",
    "import matplotlib.pyplot as plt\n",
    "\n",
    "# Tracés des points avec les prédistions pour A, B et C\n",
    "plt.figure(figsize=(8, 8))\n",
    "plt.subplot(111)\n",
    "def plot_decision_boundary2(model, steps=200,alpha=0.2,seuil=0.45):\n",
    "    \"\"\"\n",
    "    Function to plot the decision boundary and data points of a model.\n",
    "    Data points are colored based on their actual label.\n",
    "    \"\"\"\n",
    "    #alpha = alpha\n",
    "    colorT = (0, 0, 0.0,0.0)# tranparent\n",
    "    color2 = [(1, 0, 0,alpha),(0, 1, 0,alpha),(0, 0, 1,alpha)]\n",
    "    def C_map(coul):\n",
    "        cmap = (mpl.colors.ListedColormap([colorT, coul]))\n",
    "        return cmap\n",
    "\n",
    "    # Define region of interest by data limits\n",
    "    xmin, xmax = -1, 8\n",
    "    ymin, ymax = -2, 8\n",
    "    x_span = np.linspace(xmin, xmax, steps)\n",
    "    y_span = np.linspace(ymin, ymax, steps)\n",
    "    xx, yy = np.meshgrid(x_span, y_span)\n",
    "\n",
    "    # Make predictions across region of interest\n",
    "    labels = model.predict(np.c_[xx.ravel(), yy.ravel()])\n",
    "    print(labels)\n",
    "    fig = plt.figure(figsize=(6, 6))\n",
    "    ax =plt.subplot(111)\n",
    "    \n",
    "    #for i in range(0,1): \n",
    "        # Plot decision boundary in region of interest\n",
    "    z = labels.reshape(xx.shape)\n",
    "    z = z > seuil #(seuil Threshold value)\n",
    "    ax.contourf(xx, yy, z, cmap=C_map(color2[0]))\n",
    "    plt.text(-3, -0.5, f\" seuil = {seuil:.1f} \", fontsize = 12, backgroundcolor ='orange', ha ='left', c ='black')\n",
    "    plt.title(\"Domaines de décision ...\", fontsize=\"small\")\n",
    "    \n",
    "    \n",
    "    return fig, ax\n",
    "\n",
    "XY = [[-1,-2], [9, 8]]\n",
    "\n",
    "plot_decision_boundary2(model, alpha=0.2)\n"
   ]
  }
 ],
 "metadata": {
  "kernelspec": {
   "display_name": "Python 3",
   "language": "python",
   "name": "python3"
  },
  "language_info": {
   "codemirror_mode": {
    "name": "ipython",
    "version": 3
   },
   "file_extension": ".py",
   "mimetype": "text/x-python",
   "name": "python",
   "nbconvert_exporter": "python",
   "pygments_lexer": "ipython3",
   "version": "3.11.2"
  }
 },
 "nbformat": 4,
 "nbformat_minor": 2
}
