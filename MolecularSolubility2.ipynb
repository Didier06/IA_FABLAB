{
  "cells": [
    {
      "cell_type": "markdown",
      "metadata": {
        "id": "view-in-github",
        "colab_type": "text"
      },
      "source": [
        "<a href=\"https://colab.research.google.com/github/Didier06/IA_FABLAB/blob/main/MolecularSolubility2.ipynb\" target=\"_parent\"><img src=\"https://colab.research.google.com/assets/colab-badge.svg\" alt=\"Open In Colab\"/></a>"
      ]
    },
    {
      "cell_type": "code",
      "source": [
        "pip install pysmiles"
      ],
      "metadata": {
        "id": "ujLqa-2P8-qu",
        "outputId": "abca92d3-adc0-477c-ec87-588bdaa13baf",
        "colab": {
          "base_uri": "https://localhost:8080/"
        }
      },
      "execution_count": null,
      "outputs": [
        {
          "output_type": "stream",
          "name": "stdout",
          "text": [
            "Collecting pysmiles\n",
            "  Downloading pysmiles-1.1.2-py2.py3-none-any.whl (22 kB)\n",
            "Collecting pbr (from pysmiles)\n",
            "  Downloading pbr-6.0.0-py2.py3-none-any.whl (107 kB)\n",
            "\u001b[2K     \u001b[90m━━━━━━━━━━━━━━━━━━━━━━━━━━━━━━━━━━━━━━━━\u001b[0m \u001b[32m107.5/107.5 kB\u001b[0m \u001b[31m2.5 MB/s\u001b[0m eta \u001b[36m0:00:00\u001b[0m\n",
            "\u001b[?25hRequirement already satisfied: networkx in /usr/local/lib/python3.10/dist-packages (from pysmiles) (3.3)\n",
            "Installing collected packages: pbr, pysmiles\n",
            "Successfully installed pbr-6.0.0 pysmiles-1.1.2\n"
          ]
        }
      ]
    },
    {
      "cell_type": "code",
      "source": [
        "pip install torch_geometric"
      ],
      "metadata": {
        "id": "70hLSsHj9K1t",
        "outputId": "1ad5a02e-3dcd-469c-e476-7672af87799f",
        "colab": {
          "base_uri": "https://localhost:8080/"
        }
      },
      "execution_count": null,
      "outputs": [
        {
          "output_type": "stream",
          "name": "stdout",
          "text": [
            "Collecting torch_geometric\n",
            "  Downloading torch_geometric-2.5.3-py3-none-any.whl (1.1 MB)\n",
            "\u001b[2K     \u001b[90m━━━━━━━━━━━━━━━━━━━━━━━━━━━━━━━━━━━━━━━━\u001b[0m \u001b[32m1.1/1.1 MB\u001b[0m \u001b[31m12.3 MB/s\u001b[0m eta \u001b[36m0:00:00\u001b[0m\n",
            "\u001b[?25hRequirement already satisfied: tqdm in /usr/local/lib/python3.10/dist-packages (from torch_geometric) (4.66.4)\n",
            "Requirement already satisfied: numpy in /usr/local/lib/python3.10/dist-packages (from torch_geometric) (1.25.2)\n",
            "Requirement already satisfied: scipy in /usr/local/lib/python3.10/dist-packages (from torch_geometric) (1.11.4)\n",
            "Requirement already satisfied: fsspec in /usr/local/lib/python3.10/dist-packages (from torch_geometric) (2023.6.0)\n",
            "Requirement already satisfied: jinja2 in /usr/local/lib/python3.10/dist-packages (from torch_geometric) (3.1.4)\n",
            "Requirement already satisfied: aiohttp in /usr/local/lib/python3.10/dist-packages (from torch_geometric) (3.9.5)\n",
            "Requirement already satisfied: requests in /usr/local/lib/python3.10/dist-packages (from torch_geometric) (2.31.0)\n",
            "Requirement already satisfied: pyparsing in /usr/local/lib/python3.10/dist-packages (from torch_geometric) (3.1.2)\n",
            "Requirement already satisfied: scikit-learn in /usr/local/lib/python3.10/dist-packages (from torch_geometric) (1.2.2)\n",
            "Requirement already satisfied: psutil>=5.8.0 in /usr/local/lib/python3.10/dist-packages (from torch_geometric) (5.9.5)\n",
            "Requirement already satisfied: aiosignal>=1.1.2 in /usr/local/lib/python3.10/dist-packages (from aiohttp->torch_geometric) (1.3.1)\n",
            "Requirement already satisfied: attrs>=17.3.0 in /usr/local/lib/python3.10/dist-packages (from aiohttp->torch_geometric) (23.2.0)\n",
            "Requirement already satisfied: frozenlist>=1.1.1 in /usr/local/lib/python3.10/dist-packages (from aiohttp->torch_geometric) (1.4.1)\n",
            "Requirement already satisfied: multidict<7.0,>=4.5 in /usr/local/lib/python3.10/dist-packages (from aiohttp->torch_geometric) (6.0.5)\n",
            "Requirement already satisfied: yarl<2.0,>=1.0 in /usr/local/lib/python3.10/dist-packages (from aiohttp->torch_geometric) (1.9.4)\n",
            "Requirement already satisfied: async-timeout<5.0,>=4.0 in /usr/local/lib/python3.10/dist-packages (from aiohttp->torch_geometric) (4.0.3)\n",
            "Requirement already satisfied: MarkupSafe>=2.0 in /usr/local/lib/python3.10/dist-packages (from jinja2->torch_geometric) (2.1.5)\n",
            "Requirement already satisfied: charset-normalizer<4,>=2 in /usr/local/lib/python3.10/dist-packages (from requests->torch_geometric) (3.3.2)\n",
            "Requirement already satisfied: idna<4,>=2.5 in /usr/local/lib/python3.10/dist-packages (from requests->torch_geometric) (3.7)\n",
            "Requirement already satisfied: urllib3<3,>=1.21.1 in /usr/local/lib/python3.10/dist-packages (from requests->torch_geometric) (2.0.7)\n",
            "Requirement already satisfied: certifi>=2017.4.17 in /usr/local/lib/python3.10/dist-packages (from requests->torch_geometric) (2024.6.2)\n",
            "Requirement already satisfied: joblib>=1.1.1 in /usr/local/lib/python3.10/dist-packages (from scikit-learn->torch_geometric) (1.4.2)\n",
            "Requirement already satisfied: threadpoolctl>=2.0.0 in /usr/local/lib/python3.10/dist-packages (from scikit-learn->torch_geometric) (3.5.0)\n",
            "Installing collected packages: torch_geometric\n",
            "Successfully installed torch_geometric-2.5.3\n"
          ]
        }
      ]
    },
    {
      "cell_type": "code",
      "execution_count": null,
      "metadata": {
        "id": "ZevvLDjT7rMD"
      },
      "outputs": [],
      "source": [
        "import numpy as np\n",
        "import random\n",
        "import matplotlib.pyplot as plt\n",
        "from pysmiles import read_smiles\n",
        "import pandas as pd\n",
        "import logging\n",
        "from tqdm import tqdm\n",
        "import torch\n",
        "from torch.nn import Sequential as Seq, Linear, ReLU, CrossEntropyLoss\n",
        "import torch.nn.functional as F\n",
        "from torch_geometric.nn import MessagePassing, GCNConv\n",
        "from torch_geometric.utils import remove_self_loops, add_self_loops, degree\n",
        "from torch_geometric.data import Data\n",
        "\n",
        "logging.getLogger('pysmiles').setLevel(logging.CRITICAL)  # Anything higher than warning"
      ]
    },
    {
      "cell_type": "code",
      "execution_count": null,
      "metadata": {
        "colab": {
          "base_uri": "https://localhost:8080/"
        },
        "id": "n-Hysr12791c",
        "outputId": "2326a295-06eb-4587-aa6b-8a2e0a8e69a1"
      },
      "outputs": [
        {
          "output_type": "stream",
          "name": "stderr",
          "text": [
            "100%|██████████| 5494/5494 [00:05<00:00, 989.20it/s] \n"
          ]
        }
      ],
      "source": [
        "df = pd.read_csv('dataset.csv') #read dataset (https://dataverse.harvard.edu/dataset.xhtml?persistentId=doi:10.7910/DVN/OVHAW8)\n",
        "X_smiles = list(df['SMILES']) #get smiles strings from file\n",
        "Y = np.asarray(df['Solubility']) #get solubility values from file\n",
        "\n",
        "elements = ['K', 'Y', 'V', 'Sm', 'Dy', 'In', 'Lu', 'Hg', 'Co', 'Mg',    #list of all elements in the dataset\n",
        "            'Cu', 'Rh', 'Hf', 'O', 'As', 'Ge', 'Au', 'Mo', 'Br', 'Ce',\n",
        "            'Zr', 'Ag', 'Ba', 'N', 'Cr', 'Sr', 'Fe', 'Gd', 'I', 'Al',\n",
        "            'B', 'Se', 'Pr', 'Te', 'Cd', 'Pd', 'Si', 'Zn', 'Pb', 'Sn',\n",
        "            'Cl', 'Mn', 'Cs', 'Na', 'S', 'Ti', 'Ni', 'Ru', 'Ca', 'Nd',\n",
        "            'W', 'H', 'Li', 'Sb', 'Bi', 'La', 'Pt', 'Nb', 'P', 'F', 'C']\n",
        "\n",
        "#convert element to a one-hot vector of dimension len(elements)\n",
        "def element_to_onehot(element):\n",
        "    out = []\n",
        "    for i in range(0, len(element)):\n",
        "        v = np.zeros(len(elements))\n",
        "        v[elements.index(element[i])] = 1.0\n",
        "        out.append(v)\n",
        "    return np.asarray(out)\n",
        "\n",
        "#convert solubility value to one-hot class vector\n",
        "def val_to_class(val):\n",
        "    if val < -3.65: #insoluble\n",
        "        return [1, 0, 0]\n",
        "    elif val < -1.69: #slightly soluble\n",
        "        return [0, 1, 0]\n",
        "    else: #soluble\n",
        "        return [0, 0, 1]\n",
        "\n",
        "#process SMILES strings into graphs\n",
        "nodes = []\n",
        "edge_index = []\n",
        "for smiles in tqdm(X_smiles):\n",
        "    try:\n",
        "        G = read_smiles(smiles, explicit_hydrogen=True)\n",
        "        feature = element_to_onehot(np.asarray(G.nodes(data='element'))[:, 1])\n",
        "        edges = np.asarray(G.edges)\n",
        "        index = np.asarray([edges[:,0], edges[:,1]]) #reshape indices into shape [2, -1]\n",
        "        nodes.append(feature)\n",
        "        edge_index.append(index)\n",
        "    except:\n",
        "        pass"
      ]
    },
    {
      "cell_type": "code",
      "execution_count": null,
      "metadata": {
        "colab": {
          "base_uri": "https://localhost:8080/"
        },
        "id": "fXcJSQmn9ebx",
        "outputId": "428ce38c-d5f9-4f11-8556-7b70028080b7"
      },
      "outputs": [
        {
          "output_type": "stream",
          "name": "stderr",
          "text": [
            "100%|██████████| 5459/5459 [00:00<00:00, 14118.12it/s]\n"
          ]
        }
      ],
      "source": [
        "#Generate Data objects\n",
        "data = list()\n",
        "\n",
        "#process graphs into torch_geometric Data objects\n",
        "for i in tqdm(range(0, len(nodes))):\n",
        "    x = torch.tensor(nodes[i], dtype=torch.float) #convert node features into torch tensor\n",
        "    edges = torch.tensor(edge_index[i], dtype=torch.long) #convert edge index into torch tensor\n",
        "    y = torch.tensor([val_to_class(Y[i])], dtype=torch.float) #change shape of label and convert to tensor\n",
        "    data.append(Data(x=x,edge_index=edges, y=y)) #add the Data object to the list of data\n",
        "random.shuffle(data)\n",
        "train = data[:int(len(data)*0.8)] #train set\n",
        "test = data[int(len(data)*0.8):] #val set\n",
        "train = data"
      ]
    },
    {
      "cell_type": "code",
      "execution_count": null,
      "metadata": {
        "id": "SsXl2-Z9kIl2"
      },
      "outputs": [],
      "source": [
        "#define the message passing network\n",
        "class Net(torch.nn.Module):\n",
        "    def __init__(self):\n",
        "        super(Net, self).__init__()\n",
        "        self.conv1 = GCNConv(61, 32)\n",
        "        self.conv2 = GCNConv(32, 32)\n",
        "        self.conv3 = GCNConv(32, 32)\n",
        "        self.conv4 = GCNConv(32, 32)\n",
        "        self.lin1 = Linear(32, 16)\n",
        "        self.lin2 = Linear(16, 3)\n",
        "\n",
        "    def forward(self, data):\n",
        "        x, edge_index= data.x, data.edge_index\n",
        "\n",
        "        x = self.conv1(x, edge_index)\n",
        "        x = F.relu(x)\n",
        "        x = F.dropout(x, p=0.25, training=self.training)\n",
        "\n",
        "        x = self.conv2(x, edge_index)\n",
        "        x = F.relu(x)\n",
        "        x = F.dropout(x, p=0.25, training=self.training)\n",
        "\n",
        "        x = self.conv3(x, edge_index)\n",
        "        x = F.relu(x)\n",
        "        x = F.dropout(x, p=0.25, training=self.training)\n",
        "\n",
        "        x = self.conv4(x, edge_index)\n",
        "        x = F.relu(x)\n",
        "\n",
        "        x = torch.sum(x, dim=0)\n",
        "        x = self.lin1(x)\n",
        "        x = F.relu(x)\n",
        "\n",
        "        x = self.lin2(x)\n",
        "\n",
        "\n",
        "        return x"
      ]
    },
    {
      "cell_type": "code",
      "execution_count": null,
      "metadata": {
        "id": "2a1E46MK86rU"
      },
      "outputs": [],
      "source": [
        "#set up device and create model\n",
        "device = torch.device('cuda' if torch.cuda.is_available() else 'cpu') #use CUDA if available\n",
        "model = Net().to(device) #create network and send to the device memory\n",
        "optimizer = torch.optim.Adam(model.parameters(), lr=0.001, weight_decay=1e-4) #use Adam optimizer\n",
        "CSE = CrossEntropyLoss() #define loss"
      ]
    },
    {
      "cell_type": "code",
      "execution_count": null,
      "metadata": {
        "colab": {
          "base_uri": "https://localhost:8080/"
        },
        "id": "OruDaljhkJo1",
        "outputId": "7383ab1f-0aec-477b-cba6-0e9a00b091d6"
      },
      "outputs": [
        {
          "output_type": "stream",
          "name": "stderr",
          "text": [
            "100%|██████████| 5459/5459 [00:31<00:00, 171.66it/s]\n"
          ]
        },
        {
          "output_type": "stream",
          "name": "stdout",
          "text": [
            "Epoch: 000, Average loss: 1.04731, Accuracy: 0.46547\n"
          ]
        },
        {
          "output_type": "stream",
          "name": "stderr",
          "text": [
            "100%|██████████| 5459/5459 [00:31<00:00, 173.65it/s]"
          ]
        },
        {
          "output_type": "stream",
          "name": "stdout",
          "text": [
            "Epoch: 001, Average loss: 1.02153, Accuracy: 0.49716\n"
          ]
        },
        {
          "output_type": "stream",
          "name": "stderr",
          "text": [
            "\n"
          ]
        }
      ],
      "source": [
        "#train model\n",
        "model.train() #set model to training mode\n",
        "for epoch in range(2): #run for epochs of training\n",
        "    sum_loss = 0 #used to compute average loss in an epoch\n",
        "    num_correct = 0\n",
        "    random.shuffle(train) #shuffle the training data each epoch\n",
        "    for d in tqdm(train): #go over each training point\n",
        "        data = d.to(device) #send data to device\n",
        "        optimizer.zero_grad() #zero gradients\n",
        "        out = model(data) #evaluate data point\n",
        "        if torch.argmax(out) == torch.argmax(data.y): #if prediction is correct, increment counter for accuracy calculation\n",
        "            num_correct += 1\n",
        "        loss = CSE(torch.reshape(out, [1, 3]), torch.reshape(torch.argmax(data.y),[1])) #compute mean squared error loss\n",
        "        sum_loss += float(loss) #add loss value to aggregate loss\n",
        "        loss.backward() #compute gradients\n",
        "        optimizer.step() #apply optimization\n",
        "    print('Epoch: {:03d}, Average loss: {:.5f}, Accuracy: {:.5f}'.format(epoch, sum_loss/len(train), num_correct/len(train)))"
      ]
    },
    {
      "cell_type": "code",
      "source": [
        "torch.save(model.state_dict(),'/content/model1.pht' )"
      ],
      "metadata": {
        "id": "gilBBBcU-2Br"
      },
      "execution_count": null,
      "outputs": []
    },
    {
      "cell_type": "code",
      "execution_count": null,
      "metadata": {
        "id": "inZa7Rvl86rV",
        "outputId": "90423bb0-eb3a-4954-f364-f4a99a7660a5",
        "colab": {
          "base_uri": "https://localhost:8080/",
          "height": 517
        }
      },
      "outputs": [
        {
          "output_type": "stream",
          "name": "stderr",
          "text": [
            "100%|██████████| 1092/1092 [00:04<00:00, 258.66it/s]\n"
          ]
        },
        {
          "output_type": "stream",
          "name": "stdout",
          "text": [
            "Test accuracy: 0.47985347985347987\n"
          ]
        },
        {
          "output_type": "execute_result",
          "data": {
            "text/plain": [
              "(array([346.,   0., 746.]),\n",
              " array([0.        , 0.66666667, 1.33333333, 2.        ]),\n",
              " <BarContainer object of 3 artists>)"
            ]
          },
          "metadata": {},
          "execution_count": 17
        },
        {
          "output_type": "display_data",
          "data": {
            "text/plain": [
              "<Figure size 640x480 with 1 Axes>"
            ],
            "image/png": "[encoded data removed]"
          },
          "metadata": {}
        }
      ],
      "source": [
        "#test the model and display a histogram of the outputs\n",
        "num_correct = 0\n",
        "model.eval()\n",
        "predictions = list()\n",
        "for t in tqdm(test):\n",
        "    d = t.to(device)\n",
        "    out = model(d)\n",
        "    if torch.argmax(out) == torch.argmax(d.y): #if prediction is correct, increment counter for accuracy calculation\n",
        "            num_correct += 1\n",
        "    predictions.append(torch.argmax(out).item())\n",
        "\n",
        "print(\"Test accuracy: \" + str(num_correct/len(test)))\n",
        "plt.hist(predictions, bins=3)"
      ]
    },
    {
      "cell_type": "code",
      "execution_count": null,
      "metadata": {
        "id": "zTq0pyD8kLPD"
      },
      "outputs": [],
      "source": [
        "#test SMILES string\n",
        "def evaluate_smiles(smiles_string):\n",
        "    classes = ['insoluble', 'slightly soluble', 'soluble']\n",
        "    G = read_smiles(smiles_string, explicit_hydrogen=True) #decode smiles string\n",
        "    feature = element_to_onehot(np.asarray(G.nodes(data='element'))[:, 1]) #convert element to one-hot vector\n",
        "    edges = np.asarray(G.edges) #get edge array\n",
        "    index = np.asarray([edges[:,0], edges[:,1]]) #reformat edge array to torch geometric suitable format\n",
        "    d = Data(x=torch.tensor(feature, dtype=torch.float),edge_index=torch.tensor(index, dtype=torch.long)) #create torch gemoetry Data object\n",
        "    data = d.to(device) #send data to device memory\n",
        "    model.eval() #set model to evaluate mode\n",
        "    print(classes[torch.argmax(torch.softmax(model(data), dim=0)).item()]) #evaluate the test data"
      ]
    },
    {
      "cell_type": "code",
      "execution_count": null,
      "metadata": {
        "id": "tWE8THJ386rV",
        "outputId": "98225bcd-da78-4a8e-86f1-da4defc1299c",
        "colab": {
          "base_uri": "https://localhost:8080/"
        }
      },
      "outputs": [
        {
          "output_type": "stream",
          "name": "stdout",
          "text": [
            "soluble\n"
          ]
        }
      ],
      "source": [
        "evaluate_smiles('C(C(C1C(=C(C(=O)O1)O)O)O)O') #test out the model on Vitamin C"
      ]
    },
    {
      "cell_type": "code",
      "source": [
        "pip install rdkit-pypi"
      ],
      "metadata": {
        "id": "F-GqGKr_BKai",
        "outputId": "a59a739c-6b2a-435f-86f2-38fbf5cdba17",
        "colab": {
          "base_uri": "https://localhost:8080/"
        }
      },
      "execution_count": null,
      "outputs": [
        {
          "output_type": "stream",
          "name": "stdout",
          "text": [
            "Collecting rdkit-pypi\n",
            "  Downloading rdkit_pypi-2022.9.5-cp310-cp310-manylinux_2_17_x86_64.manylinux2014_x86_64.whl (29.4 MB)\n",
            "\u001b[2K     \u001b[90m━━━━━━━━━━━━━━━━━━━━━━━━━━━━━━━━━━━━━━━━\u001b[0m \u001b[32m29.4/29.4 MB\u001b[0m \u001b[31m31.5 MB/s\u001b[0m eta \u001b[36m0:00:00\u001b[0m\n",
            "\u001b[?25hRequirement already satisfied: numpy in /usr/local/lib/python3.10/dist-packages (from rdkit-pypi) (1.25.2)\n",
            "Requirement already satisfied: Pillow in /usr/local/lib/python3.10/dist-packages (from rdkit-pypi) (9.4.0)\n",
            "Installing collected packages: rdkit-pypi\n",
            "Successfully installed rdkit-pypi-2022.9.5\n"
          ]
        }
      ]
    },
    {
      "cell_type": "code",
      "source": [
        "from rdkit import Chem\n",
        "from rdkit.Chem import Draw"
      ],
      "metadata": {
        "id": "cSPdyrW8BjtC"
      },
      "execution_count": null,
      "outputs": []
    },
    {
      "cell_type": "code",
      "source": [
        "def draw(smile):\n",
        "    m = Chem.MolFromSmiles(smile)\n",
        "    img = Draw.MolToImage(m)\n",
        "    return img\n",
        "draw('Cc1ccccc1')\n"
      ],
      "metadata": {
        "id": "PUGdVQNOBHrC",
        "outputId": "66166e34-6351-4640-e06c-f87b866563b1",
        "colab": {
          "base_uri": "https://localhost:8080/",
          "height": 317
        }
      },
      "execution_count": 19,
      "outputs": [
        {
          "output_type": "execute_result",
          "data": {
            "text/plain": [
              "<PIL.PngImagePlugin.PngImageFile image mode=RGB size=300x300>"
            ],
            "image/png": "[encoded data removed]"
          },
          "metadata": {},
          "execution_count": 19
        }
      ]
    },
    {
      "cell_type": "code",
      "source": [
        "evaluate_smiles('Cc1ccccc1')"
      ],
      "metadata": {
        "id": "KBjStHsXCSnl",
        "outputId": "317626c0-2d27-49a1-80f3-f1827ecfe02b",
        "colab": {
          "base_uri": "https://localhost:8080/"
        }
      },
      "execution_count": 20,
      "outputs": [
        {
          "output_type": "stream",
          "name": "stdout",
          "text": [
            "insoluble\n"
          ]
        }
      ]
    },
    {
      "cell_type": "code",
      "source": [
        "evaluate_smiles('O=C(C1=C(OC(C)=O)C=CC=C1)O') # aspirine\n",
        "draw('O=C(C1=C(OC(C)=O)C=CC=C1)O')"
      ],
      "metadata": {
        "id": "SoraFYlMCSc2",
        "outputId": "7cb02175-3df9-48f0-ecf2-11543dee0c6c",
        "colab": {
          "base_uri": "https://localhost:8080/",
          "height": 334
        }
      },
      "execution_count": 21,
      "outputs": [
        {
          "output_type": "stream",
          "name": "stdout",
          "text": [
            "insoluble\n"
          ]
        },
        {
          "output_type": "execute_result",
          "data": {
            "text/plain": [
              "<PIL.PngImagePlugin.PngImageFile image mode=RGB size=300x300>"
            ],
            "image/png": "[encoded data removed]"
          },
          "metadata": {},
          "execution_count": 21
        }
      ]
    },
    {
      "cell_type": "code",
      "source": [
        "!pip install kora py3Dmol\n"
      ],
      "metadata": {
        "id": "Mv4mOoD3DvjD",
        "outputId": "561358f7-8975-4a42-e450-357cf4747df5",
        "colab": {
          "base_uri": "https://localhost:8080/"
        }
      },
      "execution_count": 22,
      "outputs": [
        {
          "output_type": "stream",
          "name": "stdout",
          "text": [
            "Collecting kora\n",
            "  Downloading kora-0.9.20-py3-none-any.whl (57 kB)\n",
            "\u001b[?25l     \u001b[90m━━━━━━━━━━━━━━━━━━━━━━━━━━━━━━━━━━━━━━━━\u001b[0m \u001b[32m0.0/57.7 kB\u001b[0m \u001b[31m?\u001b[0m eta \u001b[36m-:--:--\u001b[0m\r\u001b[2K     \u001b[90m━━━━━━━━━━━━━━━━━━━━━━━━━━━━━━━━━━━━━━━━\u001b[0m \u001b[32m57.7/57.7 kB\u001b[0m \u001b[31m1.5 MB/s\u001b[0m eta \u001b[36m0:00:00\u001b[0m\n",
            "\u001b[?25hCollecting py3Dmol\n",
            "  Downloading py3Dmol-2.1.0-py2.py3-none-any.whl (12 kB)\n",
            "Requirement already satisfied: ipython in /usr/local/lib/python3.10/dist-packages (from kora) (7.34.0)\n",
            "Requirement already satisfied: fastcore in /usr/local/lib/python3.10/dist-packages (from kora) (1.5.48)\n",
            "Requirement already satisfied: packaging in /usr/local/lib/python3.10/dist-packages (from fastcore->kora) (24.1)\n",
            "Requirement already satisfied: setuptools>=18.5 in /usr/local/lib/python3.10/dist-packages (from ipython->kora) (67.7.2)\n",
            "Collecting jedi>=0.16 (from ipython->kora)\n",
            "  Downloading jedi-0.19.1-py2.py3-none-any.whl (1.6 MB)\n",
            "\u001b[2K     \u001b[90m━━━━━━━━━━━━━━━━━━━━━━━━━━━━━━━━━━━━━━━━\u001b[0m \u001b[32m1.6/1.6 MB\u001b[0m \u001b[31m23.9 MB/s\u001b[0m eta \u001b[36m0:00:00\u001b[0m\n",
            "\u001b[?25hRequirement already satisfied: decorator in /usr/local/lib/python3.10/dist-packages (from ipython->kora) (4.4.2)\n",
            "Requirement already satisfied: pickleshare in /usr/local/lib/python3.10/dist-packages (from ipython->kora) (0.7.5)\n",
            "Requirement already satisfied: traitlets>=4.2 in /usr/local/lib/python3.10/dist-packages (from ipython->kora) (5.7.1)\n",
            "Requirement already satisfied: prompt-toolkit!=3.0.0,!=3.0.1,<3.1.0,>=2.0.0 in /usr/local/lib/python3.10/dist-packages (from ipython->kora) (3.0.47)\n",
            "Requirement already satisfied: pygments in /usr/local/lib/python3.10/dist-packages (from ipython->kora) (2.16.1)\n",
            "Requirement already satisfied: backcall in /usr/local/lib/python3.10/dist-packages (from ipython->kora) (0.2.0)\n",
            "Requirement already satisfied: matplotlib-inline in /usr/local/lib/python3.10/dist-packages (from ipython->kora) (0.1.7)\n",
            "Requirement already satisfied: pexpect>4.3 in /usr/local/lib/python3.10/dist-packages (from ipython->kora) (4.9.0)\n",
            "Requirement already satisfied: parso<0.9.0,>=0.8.3 in /usr/local/lib/python3.10/dist-packages (from jedi>=0.16->ipython->kora) (0.8.4)\n",
            "Requirement already satisfied: ptyprocess>=0.5 in /usr/local/lib/python3.10/dist-packages (from pexpect>4.3->ipython->kora) (0.7.0)\n",
            "Requirement already satisfied: wcwidth in /usr/local/lib/python3.10/dist-packages (from prompt-toolkit!=3.0.0,!=3.0.1,<3.1.0,>=2.0.0->ipython->kora) (0.2.13)\n",
            "Installing collected packages: py3Dmol, jedi, kora\n",
            "Successfully installed jedi-0.19.1 kora-0.9.20 py3Dmol-2.1.0\n"
          ]
        }
      ]
    },
    {
      "cell_type": "code",
      "source": [
        "from rdkit import Chem\n",
        "from rdkit.Chem import AllChem\n",
        "import py3Dmol\n",
        "\n",
        "def show(smi, style='stick'):\n",
        "    mol = Chem.MolFromSmiles(smi)\n",
        "    mol = Chem.AddHs(mol)\n",
        "    AllChem.EmbedMolecule(mol)\n",
        "    AllChem.MMFFOptimizeMolecule(mol, maxIters=200)\n",
        "    mblock = Chem.MolToMolBlock(mol)\n",
        "\n",
        "    view = py3Dmol.view(width=400, height=400)\n",
        "    view.addModel(mblock, 'mol')\n",
        "    view.setStyle({style:{}})\n",
        "    view.zoomTo()\n",
        "    view.show()\n",
        "\n",
        "# example\n",
        "show('CC')  # or 'P'"
      ],
      "metadata": {
        "id": "61gxhsPM7wBM",
        "outputId": "386f8eef-f1ea-4d9e-a4d9-7d59ae6948c7",
        "colab": {
          "base_uri": "https://localhost:8080/",
          "height": 417
        }
      },
      "execution_count": 25,
      "outputs": [
        {
          "output_type": "display_data",
          "data": {
            "application/3dmoljs_load.v0": "<div id=\"3dmolviewer_1719864930309362\"  style=\"position: relative; width: 400px; height: 400px;\">\n        <p id=\"3dmolwarning_1719864930309362\" style=\"background-color:#ffcccc;color:black\">3Dmol.js failed to load for some reason.  Please check your browser console for error messages.<br></p>\n        </div>\n<script>\n\nvar loadScriptAsync = function(uri){\n  return new Promise((resolve, reject) => {\n    //this is to ignore the existence of requirejs amd\n    var savedexports, savedmodule;\n    if (typeof exports !== 'undefined') savedexports = exports;\n    else exports = {}\n    if (typeof module !== 'undefined') savedmodule = module;\n    else module = {}\n\n    var tag = document.createElement('script');\n    tag.src = uri;\n    tag.async = true;\n    tag.onload = () => {\n        exports = savedexports;\n        module = savedmodule;\n        resolve();\n    };\n  var firstScriptTag = document.getElementsByTagName('script')[0];\n  firstScriptTag.parentNode.insertBefore(tag, firstScriptTag);\n});\n};\n\nif(typeof $3Dmolpromise === 'undefined') {\n$3Dmolpromise = null;\n  $3Dmolpromise = loadScriptAsync('https://cdnjs.cloudflare.com/ajax/libs/3Dmol/2.1.0/3Dmol-min.js');\n}\n\nvar viewer_1719864930309362 = null;\nvar warn = document.getElementById(\"3dmolwarning_1719864930309362\");\nif(warn) {\n    warn.parentNode.removeChild(warn);\n}\n$3Dmolpromise.then(function() {\nviewer_1719864930309362 = $3Dmol.createViewer(document.getElementById(\"3dmolviewer_1719864930309362\"),{backgroundColor:\"white\"});\nviewer_1719864930309362.zoomTo();\n\tviewer_1719864930309362.addModel(\"\\n     RDKit          3D\\n\\n  8  7  0  0  0  0  0  0  0  0999 V2000\\n   -0.7546   -0.0435    0.0139 C   0  0  0  0  0  0  0  0  0  0  0  0\\n    0.7546    0.0435   -0.0139 C   0  0  0  0  0  0  0  0  0  0  0  0\\n   -1.1272    0.0653    1.0368 H   0  0  0  0  0  0  0  0  0  0  0  0\\n   -1.1966    0.7472   -0.5996 H   0  0  0  0  0  0  0  0  0  0  0  0\\n   -1.0911   -1.0095   -0.3744 H   0  0  0  0  0  0  0  0  0  0  0  0\\n    1.0911    1.0095    0.3744 H   0  0  0  0  0  0  0  0  0  0  0  0\\n    1.1272   -0.0653   -1.0368 H   0  0  0  0  0  0  0  0  0  0  0  0\\n    1.1966   -0.7472    0.5996 H   0  0  0  0  0  0  0  0  0  0  0  0\\n  1  2  1  0\\n  1  3  1  0\\n  1  4  1  0\\n  1  5  1  0\\n  2  6  1  0\\n  2  7  1  0\\n  2  8  1  0\\nM  END\\n\",\"mol\");\n\tviewer_1719864930309362.setStyle({\"stick\": {}});\n\tviewer_1719864930309362.zoomTo();\nviewer_1719864930309362.render();\n});\n</script>",
            "text/html": [
              "<div id=\"3dmolviewer_1719864930309362\"  style=\"position: relative; width: 400px; height: 400px;\">\n",
              "        <p id=\"3dmolwarning_1719864930309362\" style=\"background-color:#ffcccc;color:black\">3Dmol.js failed to load for some reason.  Please check your browser console for error messages.<br></p>\n",
              "        </div>\n",
              "<script>\n",
              "\n",
              "var loadScriptAsync = function(uri){\n",
              "  return new Promise((resolve, reject) => {\n",
              "    //this is to ignore the existence of requirejs amd\n",
              "    var savedexports, savedmodule;\n",
              "    if (typeof exports !== 'undefined') savedexports = exports;\n",
              "    else exports = {}\n",
              "    if (typeof module !== 'undefined') savedmodule = module;\n",
              "    else module = {}\n",
              "\n",
              "    var tag = document.createElement('script');\n",
              "    tag.src = uri;\n",
              "    tag.async = true;\n",
              "    tag.onload = () => {\n",
              "        exports = savedexports;\n",
              "        module = savedmodule;\n",
              "        resolve();\n",
              "    };\n",
              "  var firstScriptTag = document.getElementsByTagName('script')[0];\n",
              "  firstScriptTag.parentNode.insertBefore(tag, firstScriptTag);\n",
              "});\n",
              "};\n",
              "\n",
              "if(typeof $3Dmolpromise === 'undefined') {\n",
              "$3Dmolpromise = null;\n",
              "  $3Dmolpromise = loadScriptAsync('https://cdnjs.cloudflare.com/ajax/libs/3Dmol/2.1.0/3Dmol-min.js');\n",
              "}\n",
              "\n",
              "var viewer_1719864930309362 = null;\n",
              "var warn = document.getElementById(\"3dmolwarning_1719864930309362\");\n",
              "if(warn) {\n",
              "    warn.parentNode.removeChild(warn);\n",
              "}\n",
              "$3Dmolpromise.then(function() {\n",
              "viewer_1719864930309362 = $3Dmol.createViewer(document.getElementById(\"3dmolviewer_1719864930309362\"),{backgroundColor:\"white\"});\n",
              "viewer_1719864930309362.zoomTo();\n",
              "\tviewer_1719864930309362.addModel(\"\\n     RDKit          3D\\n\\n  8  7  0  0  0  0  0  0  0  0999 V2000\\n   -0.7546   -0.0435    0.0139 C   0  0  0  0  0  0  0  0  0  0  0  0\\n    0.7546    0.0435   -0.0139 C   0  0  0  0  0  0  0  0  0  0  0  0\\n   -1.1272    0.0653    1.0368 H   0  0  0  0  0  0  0  0  0  0  0  0\\n   -1.1966    0.7472   -0.5996 H   0  0  0  0  0  0  0  0  0  0  0  0\\n   -1.0911   -1.0095   -0.3744 H   0  0  0  0  0  0  0  0  0  0  0  0\\n    1.0911    1.0095    0.3744 H   0  0  0  0  0  0  0  0  0  0  0  0\\n    1.1272   -0.0653   -1.0368 H   0  0  0  0  0  0  0  0  0  0  0  0\\n    1.1966   -0.7472    0.5996 H   0  0  0  0  0  0  0  0  0  0  0  0\\n  1  2  1  0\\n  1  3  1  0\\n  1  4  1  0\\n  1  5  1  0\\n  2  6  1  0\\n  2  7  1  0\\n  2  8  1  0\\nM  END\\n\",\"mol\");\n",
              "\tviewer_1719864930309362.setStyle({\"stick\": {}});\n",
              "\tviewer_1719864930309362.zoomTo();\n",
              "viewer_1719864930309362.render();\n",
              "});\n",
              "</script>"
            ]
          },
          "metadata": {}
        }
      ]
    },
    {
      "cell_type": "code",
      "source": [
        "show('O=C(C1=C(OC(C)=O)C=CC=C1)O') # aspirine"
      ],
      "metadata": {
        "id": "EL54WjOO73Nc",
        "outputId": "dc28b356-af83-4694-a088-637078892586",
        "colab": {
          "base_uri": "https://localhost:8080/",
          "height": 417
        }
      },
      "execution_count": 26,
      "outputs": [
        {
          "output_type": "display_data",
          "data": {
            "application/3dmoljs_load.v0": "<div id=\"3dmolviewer_17198649365785291\"  style=\"position: relative; width: 400px; height: 400px;\">\n        <p id=\"3dmolwarning_17198649365785291\" style=\"background-color:#ffcccc;color:black\">3Dmol.js failed to load for some reason.  Please check your browser console for error messages.<br></p>\n        </div>\n<script>\n\nvar loadScriptAsync = function(uri){\n  return new Promise((resolve, reject) => {\n    //this is to ignore the existence of requirejs amd\n    var savedexports, savedmodule;\n    if (typeof exports !== 'undefined') savedexports = exports;\n    else exports = {}\n    if (typeof module !== 'undefined') savedmodule = module;\n    else module = {}\n\n    var tag = document.createElement('script');\n    tag.src = uri;\n    tag.async = true;\n    tag.onload = () => {\n        exports = savedexports;\n        module = savedmodule;\n        resolve();\n    };\n  var firstScriptTag = document.getElementsByTagName('script')[0];\n  firstScriptTag.parentNode.insertBefore(tag, firstScriptTag);\n});\n};\n\nif(typeof $3Dmolpromise === 'undefined') {\n$3Dmolpromise = null;\n  $3Dmolpromise = loadScriptAsync('https://cdnjs.cloudflare.com/ajax/libs/3Dmol/2.1.0/3Dmol-min.js');\n}\n\nvar viewer_17198649365785291 = null;\nvar warn = document.getElementById(\"3dmolwarning_17198649365785291\");\nif(warn) {\n    warn.parentNode.removeChild(warn);\n}\n$3Dmolpromise.then(function() {\nviewer_17198649365785291 = $3Dmol.createViewer(document.getElementById(\"3dmolviewer_17198649365785291\"),{backgroundColor:\"white\"});\nviewer_17198649365785291.zoomTo();\n\tviewer_17198649365785291.addModel(\"\\n     RDKit          3D\\n\\n 21 21  0  0  0  0  0  0  0  0999 V2000\\n    0.0551    1.9916    1.4298 O   0  0  0  0  0  0  0  0  0  0  0  0\\n   -0.9487    1.4096    1.0619 C   0  0  0  0  0  0  0  0  0  0  0  0\\n   -1.0260    0.0690    0.4239 C   0  0  0  0  0  0  0  0  0  0  0  0\\n    0.1402   -0.6412    0.1041 C   0  0  0  0  0  0  0  0  0  0  0  0\\n    1.4144   -0.1376    0.3817 O   0  0  0  0  0  0  0  0  0  0  0  0\\n    1.8656    0.7425   -0.5958 C   0  0  0  0  0  0  0  0  0  0  0  0\\n    3.1875    1.3063   -0.1680 C   0  0  0  0  0  0  0  0  0  0  0  0\\n    1.3065    1.0129   -1.6510 O   0  0  0  0  0  0  0  0  0  0  0  0\\n    0.0776   -1.9224   -0.4537 C   0  0  0  0  0  0  0  0  0  0  0  0\\n   -1.1627   -2.4950   -0.7285 C   0  0  0  0  0  0  0  0  0  0  0  0\\n   -2.3329   -1.7954   -0.4359 C   0  0  0  0  0  0  0  0  0  0  0  0\\n   -2.2669   -0.5221    0.1395 C   0  0  0  0  0  0  0  0  0  0  0  0\\n   -2.1605    1.9764    1.2207 O   0  0  0  0  0  0  0  0  0  0  0  0\\n    3.0834    1.8057    0.7985 H   0  0  0  0  0  0  0  0  0  0  0  0\\n    3.5209    2.0440   -0.9034 H   0  0  0  0  0  0  0  0  0  0  0  0\\n    3.9297    0.5064   -0.1108 H   0  0  0  0  0  0  0  0  0  0  0  0\\n    0.9899   -2.4669   -0.6805 H   0  0  0  0  0  0  0  0  0  0  0  0\\n   -1.2178   -3.4859   -1.1727 H   0  0  0  0  0  0  0  0  0  0  0  0\\n   -3.3009   -2.2415   -0.6530 H   0  0  0  0  0  0  0  0  0  0  0  0\\n   -3.1948   -0.0011    0.3648 H   0  0  0  0  0  0  0  0  0  0  0  0\\n   -1.9597    2.8449    1.6284 H   0  0  0  0  0  0  0  0  0  0  0  0\\n  1  2  2  0\\n  2  3  1  0\\n  3  4  2  0\\n  4  5  1  0\\n  5  6  1  0\\n  6  7  1  0\\n  6  8  2  0\\n  4  9  1  0\\n  9 10  2  0\\n 10 11  1  0\\n 11 12  2  0\\n  2 13  1  0\\n 12  3  1  0\\n  7 14  1  0\\n  7 15  1  0\\n  7 16  1  0\\n  9 17  1  0\\n 10 18  1  0\\n 11 19  1  0\\n 12 20  1  0\\n 13 21  1  0\\nM  END\\n\",\"mol\");\n\tviewer_17198649365785291.setStyle({\"stick\": {}});\n\tviewer_17198649365785291.zoomTo();\nviewer_17198649365785291.render();\n});\n</script>",
            "text/html": [
              "<div id=\"3dmolviewer_17198649365785291\"  style=\"position: relative; width: 400px; height: 400px;\">\n",
              "        <p id=\"3dmolwarning_17198649365785291\" style=\"background-color:#ffcccc;color:black\">3Dmol.js failed to load for some reason.  Please check your browser console for error messages.<br></p>\n",
              "        </div>\n",
              "<script>\n",
              "\n",
              "var loadScriptAsync = function(uri){\n",
              "  return new Promise((resolve, reject) => {\n",
              "    //this is to ignore the existence of requirejs amd\n",
              "    var savedexports, savedmodule;\n",
              "    if (typeof exports !== 'undefined') savedexports = exports;\n",
              "    else exports = {}\n",
              "    if (typeof module !== 'undefined') savedmodule = module;\n",
              "    else module = {}\n",
              "\n",
              "    var tag = document.createElement('script');\n",
              "    tag.src = uri;\n",
              "    tag.async = true;\n",
              "    tag.onload = () => {\n",
              "        exports = savedexports;\n",
              "        module = savedmodule;\n",
              "        resolve();\n",
              "    };\n",
              "  var firstScriptTag = document.getElementsByTagName('script')[0];\n",
              "  firstScriptTag.parentNode.insertBefore(tag, firstScriptTag);\n",
              "});\n",
              "};\n",
              "\n",
              "if(typeof $3Dmolpromise === 'undefined') {\n",
              "$3Dmolpromise = null;\n",
              "  $3Dmolpromise = loadScriptAsync('https://cdnjs.cloudflare.com/ajax/libs/3Dmol/2.1.0/3Dmol-min.js');\n",
              "}\n",
              "\n",
              "var viewer_17198649365785291 = null;\n",
              "var warn = document.getElementById(\"3dmolwarning_17198649365785291\");\n",
              "if(warn) {\n",
              "    warn.parentNode.removeChild(warn);\n",
              "}\n",
              "$3Dmolpromise.then(function() {\n",
              "viewer_17198649365785291 = $3Dmol.createViewer(document.getElementById(\"3dmolviewer_17198649365785291\"),{backgroundColor:\"white\"});\n",
              "viewer_17198649365785291.zoomTo();\n",
              "\tviewer_17198649365785291.addModel(\"\\n     RDKit          3D\\n\\n 21 21  0  0  0  0  0  0  0  0999 V2000\\n    0.0551    1.9916    1.4298 O   0  0  0  0  0  0  0  0  0  0  0  0\\n   -0.9487    1.4096    1.0619 C   0  0  0  0  0  0  0  0  0  0  0  0\\n   -1.0260    0.0690    0.4239 C   0  0  0  0  0  0  0  0  0  0  0  0\\n    0.1402   -0.6412    0.1041 C   0  0  0  0  0  0  0  0  0  0  0  0\\n    1.4144   -0.1376    0.3817 O   0  0  0  0  0  0  0  0  0  0  0  0\\n    1.8656    0.7425   -0.5958 C   0  0  0  0  0  0  0  0  0  0  0  0\\n    3.1875    1.3063   -0.1680 C   0  0  0  0  0  0  0  0  0  0  0  0\\n    1.3065    1.0129   -1.6510 O   0  0  0  0  0  0  0  0  0  0  0  0\\n    0.0776   -1.9224   -0.4537 C   0  0  0  0  0  0  0  0  0  0  0  0\\n   -1.1627   -2.4950   -0.7285 C   0  0  0  0  0  0  0  0  0  0  0  0\\n   -2.3329   -1.7954   -0.4359 C   0  0  0  0  0  0  0  0  0  0  0  0\\n   -2.2669   -0.5221    0.1395 C   0  0  0  0  0  0  0  0  0  0  0  0\\n   -2.1605    1.9764    1.2207 O   0  0  0  0  0  0  0  0  0  0  0  0\\n    3.0834    1.8057    0.7985 H   0  0  0  0  0  0  0  0  0  0  0  0\\n    3.5209    2.0440   -0.9034 H   0  0  0  0  0  0  0  0  0  0  0  0\\n    3.9297    0.5064   -0.1108 H   0  0  0  0  0  0  0  0  0  0  0  0\\n    0.9899   -2.4669   -0.6805 H   0  0  0  0  0  0  0  0  0  0  0  0\\n   -1.2178   -3.4859   -1.1727 H   0  0  0  0  0  0  0  0  0  0  0  0\\n   -3.3009   -2.2415   -0.6530 H   0  0  0  0  0  0  0  0  0  0  0  0\\n   -3.1948   -0.0011    0.3648 H   0  0  0  0  0  0  0  0  0  0  0  0\\n   -1.9597    2.8449    1.6284 H   0  0  0  0  0  0  0  0  0  0  0  0\\n  1  2  2  0\\n  2  3  1  0\\n  3  4  2  0\\n  4  5  1  0\\n  5  6  1  0\\n  6  7  1  0\\n  6  8  2  0\\n  4  9  1  0\\n  9 10  2  0\\n 10 11  1  0\\n 11 12  2  0\\n  2 13  1  0\\n 12  3  1  0\\n  7 14  1  0\\n  7 15  1  0\\n  7 16  1  0\\n  9 17  1  0\\n 10 18  1  0\\n 11 19  1  0\\n 12 20  1  0\\n 13 21  1  0\\nM  END\\n\",\"mol\");\n",
              "\tviewer_17198649365785291.setStyle({\"stick\": {}});\n",
              "\tviewer_17198649365785291.zoomTo();\n",
              "viewer_17198649365785291.render();\n",
              "});\n",
              "</script>"
            ]
          },
          "metadata": {}
        }
      ]
    }
  ],
  "metadata": {
    "colab": {
      "name": "PyTorch Test.ipynb",
      "provenance": [],
      "include_colab_link": true
    },
    "kernelspec": {
      "display_name": "Python 3",
      "language": "python",
      "name": "python3"
    },
    "language_info": {
      "codemirror_mode": {
        "name": "ipython",
        "version": 3
      },
      "file_extension": ".py",
      "mimetype": "text/x-python",
      "name": "python",
      "nbconvert_exporter": "python",
      "pygments_lexer": "ipython3",
      "version": "3.6.4"
    }
  },
  "nbformat": 4,
  "nbformat_minor": 0
}