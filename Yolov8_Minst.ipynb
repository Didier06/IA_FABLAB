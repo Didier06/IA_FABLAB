{
  "nbformat": 4,
  "nbformat_minor": 0,
  "metadata": {
    "colab": {
      "provenance": [],
      "machine_shape": "hm",
      "gpuType": "T4",
      "authorship_tag": "ABX9TyOV+fEz04/YLSMZpbvBJFUd",
      "include_colab_link": true
    },
    "kernelspec": {
      "name": "python3",
      "display_name": "Python 3"
    },
    "language_info": {
      "name": "python"
    },
    "accelerator": "GPU"
  },
  "cells": [
    {
      "cell_type": "markdown",
      "metadata": {
        "id": "view-in-github",
        "colab_type": "text"
      },
      "source": [
        "<a href=\"https://colab.research.google.com/github/Didier06/IA_FABLAB/blob/main/Yolov8_Minst.ipynb\" target=\"_parent\"><img src=\"https://colab.research.google.com/assets/colab-badge.svg\" alt=\"Open In Colab\"/></a>"
      ]
    },
    {
      "cell_type": "code",
      "execution_count": 1,
      "metadata": {
        "colab": {
          "base_uri": "https://localhost:8080/"
        },
        "id": "PaCCj2rOzf1m",
        "outputId": "cd433228-c4e9-4249-c9e7-51443e5cb824"
      },
      "outputs": [
        {
          "output_type": "stream",
          "name": "stdout",
          "text": [
            "\u001b[?25l   \u001b[90m━━━━━━━━━━━━━━━━━━━━━━━━━━━━━━━━━━━━━━━━\u001b[0m \u001b[32m0.0/1.1 MB\u001b[0m \u001b[31m?\u001b[0m eta \u001b[36m-:--:--\u001b[0m\r\u001b[2K   \u001b[91m━━━━━━━━\u001b[0m\u001b[90m╺\u001b[0m\u001b[90m━━━━━━━━━━━━━━━━━━━━━━━━━━━━━━━\u001b[0m \u001b[32m0.2/1.1 MB\u001b[0m \u001b[31m8.4 MB/s\u001b[0m eta \u001b[36m0:00:01\u001b[0m\r\u001b[2K   \u001b[91m━━━━━━━━━━━━━━━━━━━━━━━━━━━━━━━━━━━━━━━\u001b[0m\u001b[91m╸\u001b[0m \u001b[32m1.1/1.1 MB\u001b[0m \u001b[31m17.6 MB/s\u001b[0m eta \u001b[36m0:00:01\u001b[0m\r\u001b[2K   \u001b[90m━━━━━━━━━━━━━━━━━━━━━━━━━━━━━━━━━━━━━━━━\u001b[0m \u001b[32m1.1/1.1 MB\u001b[0m \u001b[31m14.8 MB/s\u001b[0m eta \u001b[36m0:00:00\u001b[0m\n",
            "\u001b[?25h"
          ]
        }
      ],
      "source": [
        "# ======================================================\n",
        "# 🧠 MNIST multi-chiffres avec YOLOv8m (Ultralytics)\n",
        "# ======================================================\n",
        "\n",
        "!pip install ultralytics torchvision tqdm pyyaml --quiet\n",
        "\n",
        "from torchvision import datasets\n",
        "from PIL import Image\n",
        "import random, os, yaml\n",
        "from tqdm import tqdm"
      ]
    },
    {
      "cell_type": "code",
      "source": [
        "# ======================================================\n",
        "# 1️⃣ Monter Google Drive pour sauvegarder le modèle\n",
        "# ======================================================\n",
        "from google.colab import drive\n",
        "drive.mount('/content/drive')\n",
        "\n",
        "save_dir = \"/content/drive/MyDrive/MNIST_YOLOv8m\"\n",
        "os.makedirs(save_dir, exist_ok=True)\n",
        "print(f\"📁 Modèle sera sauvegardé dans : {save_dir}\")"
      ],
      "metadata": {
        "colab": {
          "base_uri": "https://localhost:8080/"
        },
        "id": "kTJNy3QNztkf",
        "outputId": "222535b8-de41-4f6f-a2ad-75eb9541bf6e"
      },
      "execution_count": 2,
      "outputs": [
        {
          "output_type": "stream",
          "name": "stdout",
          "text": [
            "Mounted at /content/drive\n",
            "📁 Modèle sera sauvegardé dans : /content/drive/MyDrive/MNIST_YOLOv8m\n"
          ]
        }
      ]
    },
    {
      "cell_type": "code",
      "source": [
        "# ======================================================\n",
        "# 2️⃣ Génération du dataset multi-chiffres (3 à 10)\n",
        "# ======================================================\n",
        "mnist = datasets.MNIST(root=\"data\", train=True, download=True)\n",
        "\n",
        "os.makedirs(\"mnist_yolo/images/train\", exist_ok=True)\n",
        "os.makedirs(\"mnist_yolo/labels/train\", exist_ok=True)\n",
        "os.makedirs(\"mnist_yolo/images/val\", exist_ok=True)\n",
        "os.makedirs(\"mnist_yolo/labels/val\", exist_ok=True)\n",
        "\n",
        "def create_images(nb_images, split):\n",
        "    for i in tqdm(range(nb_images), desc=f\"Génération {split}\"):\n",
        "        img = Image.new(\"L\", (320, 320), color=0)\n",
        "        nb_digits = random.randint(3, 10)\n",
        "        label_lines = []\n",
        "\n",
        "        for _ in range(nb_digits):\n",
        "            idx = random.randint(0, len(mnist) - 1)\n",
        "            digit_img, label = mnist[idx]\n",
        "            x = random.randint(0, 320 - 28)\n",
        "            y = random.randint(0, 320 - 28)\n",
        "            img.paste(digit_img, (x, y))\n",
        "\n",
        "            xc = (x + 14) / 320\n",
        "            yc = (y + 14) / 320\n",
        "            w = 28 / 320\n",
        "            h = 28 / 320\n",
        "            label_lines.append(f\"{label} {xc:.6f} {yc:.6f} {w:.6f} {h:.6f}\")\n",
        "\n",
        "        img.save(f\"mnist_yolo/images/{split}/{i}.jpg\")\n",
        "        with open(f\"mnist_yolo/labels/{split}/{i}.txt\", \"w\") as f:\n",
        "            f.write(\"\\n\".join(label_lines))\n",
        "\n",
        "create_images(4000, \"train\")\n",
        "create_images(1000, \"val\")"
      ],
      "metadata": {
        "colab": {
          "base_uri": "https://localhost:8080/"
        },
        "id": "dsJv-Ft7zrGH",
        "outputId": "dad3887d-ca7f-4533-9f93-f8bf239a6fa5"
      },
      "execution_count": 3,
      "outputs": [
        {
          "output_type": "stream",
          "name": "stderr",
          "text": [
            "100%|██████████| 9.91M/9.91M [00:01<00:00, 6.11MB/s]\n",
            "100%|██████████| 28.9k/28.9k [00:00<00:00, 161kB/s]\n",
            "100%|██████████| 1.65M/1.65M [00:01<00:00, 1.52MB/s]\n",
            "100%|██████████| 4.54k/4.54k [00:00<00:00, 8.93MB/s]\n",
            "Génération train: 100%|██████████| 4000/4000 [00:02<00:00, 1528.70it/s]\n",
            "Génération val: 100%|██████████| 1000/1000 [00:00<00:00, 1592.60it/s]\n"
          ]
        }
      ]
    },
    {
      "cell_type": "code",
      "source": [
        "# ======================================================\n",
        "# 3️⃣ Fichier de configuration data.yaml\n",
        "# ======================================================\n",
        "import yaml\n",
        "\n",
        "with open(\"mnist_yolo/data.yaml\", \"w\") as f:\n",
        "    yaml.dump({\n",
        "        'path': '/content/mnist_yolo',  # dossier racine du dataset\n",
        "        'train': 'images/train',\n",
        "        'val': 'images/val',\n",
        "        'nc': 10,\n",
        "        'names': [str(i) for i in range(10)]\n",
        "    }, f)\n",
        "\n",
        "print(\"✅ Dataset YOLOv8 prêt\")\n"
      ],
      "metadata": {
        "colab": {
          "base_uri": "https://localhost:8080/"
        },
        "id": "-TzVL1Ka1ZVa",
        "outputId": "af3dc441-6c1a-4ca3-b8eb-ec3aedb11ff9"
      },
      "execution_count": 4,
      "outputs": [
        {
          "output_type": "stream",
          "name": "stdout",
          "text": [
            "✅ Dataset YOLOv8 prêt\n"
          ]
        }
      ]
    },
    {
      "cell_type": "code",
      "source": [
        "!nvidia-smi"
      ],
      "metadata": {
        "colab": {
          "base_uri": "https://localhost:8080/"
        },
        "id": "tcWbkdIg9U9T",
        "outputId": "5f938f82-75d9-48e6-c2e0-8e35d16ceb47"
      },
      "execution_count": 5,
      "outputs": [
        {
          "output_type": "stream",
          "name": "stdout",
          "text": [
            "Tue Oct 21 08:51:30 2025       \n",
            "+-----------------------------------------------------------------------------------------+\n",
            "| NVIDIA-SMI 550.54.15              Driver Version: 550.54.15      CUDA Version: 12.4     |\n",
            "|-----------------------------------------+------------------------+----------------------+\n",
            "| GPU  Name                 Persistence-M | Bus-Id          Disp.A | Volatile Uncorr. ECC |\n",
            "| Fan  Temp   Perf          Pwr:Usage/Cap |           Memory-Usage | GPU-Util  Compute M. |\n",
            "|                                         |                        |               MIG M. |\n",
            "|=========================================+========================+======================|\n",
            "|   0  Tesla T4                       Off |   00000000:00:04.0 Off |                    0 |\n",
            "| N/A   48C    P8             10W /   70W |       0MiB /  15360MiB |      0%      Default |\n",
            "|                                         |                        |                  N/A |\n",
            "+-----------------------------------------+------------------------+----------------------+\n",
            "                                                                                         \n",
            "+-----------------------------------------------------------------------------------------+\n",
            "| Processes:                                                                              |\n",
            "|  GPU   GI   CI        PID   Type   Process name                              GPU Memory |\n",
            "|        ID   ID                                                               Usage      |\n",
            "|=========================================================================================|\n",
            "|  No running processes found                                                             |\n",
            "+-----------------------------------------------------------------------------------------+\n"
          ]
        }
      ]
    },
    {
      "cell_type": "code",
      "source": [
        "# ======================================================\n",
        "# Entraînement YOLOv8m — version 100% continue et robuste (avec reprise native)\n",
        "# ======================================================\n",
        "import os\n",
        "from ultralytics import YOLO\n",
        "from google.colab import drive\n",
        "\n",
        "# 1️⃣ Monter Google Drive\n",
        "drive.mount('/content/drive')\n",
        "\n",
        "# 2️⃣ Répertoires\n",
        "drive_dir = '/content/drive/MyDrive/yolo_mnist_training'\n",
        "run_name = 'mnist_yolo_run'\n",
        "data_yaml = 'mnist_yolo/data.yaml'\n",
        "base_model = 'yolov8m.pt'\n",
        "\n",
        "# 3️⃣ Vérifier s’il existe déjà un entraînement\n",
        "run_dir = f\"{drive_dir}/{run_name}\"\n",
        "last_ckpt = os.path.join(run_dir, 'weights', 'last.pt')\n",
        "\n",
        "# 4️⃣ Charger le modèle\n",
        "if os.path.exists(last_ckpt):\n",
        "    print(f\"🔁 Reprise automatique depuis {last_ckpt}\")\n",
        "    model = YOLO(last_ckpt)\n",
        "    resume_mode = True\n",
        "else:\n",
        "    print(\"🆕 Nouveau départ avec yolov8m.pt\")\n",
        "    model = YOLO(base_model)\n",
        "    resume_mode = False\n",
        "\n",
        "# 5️⃣ Lancer un seul entraînement géré par YOLO\n",
        "results = model.train(\n",
        "    data=data_yaml,\n",
        "    epochs=50,\n",
        "    imgsz=320,\n",
        "    project=drive_dir,   # les fichiers seront directement dans ton Drive\n",
        "    name=run_name,\n",
        "    resume=resume_mode,  # ✅ vraie reprise native\n",
        "    save_period=5,       # ✅ sauvegarde tous les 5 epochs\n",
        "    device=0\n",
        ")\n",
        "\n",
        "print(\"✅ Entraînement complet avec sauvegarde automatique sur Drive !\")\n"
      ],
      "metadata": {
        "colab": {
          "base_uri": "https://localhost:8080/"
        },
        "id": "8InuZ_tS2xAT",
        "outputId": "54253f4f-11e1-4bb3-9a33-97eea93ab84f"
      },
      "execution_count": null,
      "outputs": [
        {
          "output_type": "stream",
          "name": "stdout",
          "text": [
            "Drive already mounted at /content/drive; to attempt to forcibly remount, call drive.mount(\"/content/drive\", force_remount=True).\n",
            "🆕 Nouveau départ avec yolov8m.pt\n",
            "Ultralytics 8.3.218 🚀 Python-3.12.12 torch-2.8.0+cu126 CUDA:0 (Tesla T4, 15095MiB)\n",
            "\u001b[34m\u001b[1mengine/trainer: \u001b[0magnostic_nms=False, amp=True, augment=False, auto_augment=randaugment, batch=16, bgr=0.0, box=7.5, cache=False, cfg=None, classes=None, close_mosaic=10, cls=0.5, compile=False, conf=None, copy_paste=0.0, copy_paste_mode=flip, cos_lr=False, cutmix=0.0, data=mnist_yolo/data.yaml, degrees=0.0, deterministic=True, device=0, dfl=1.5, dnn=False, dropout=0.0, dynamic=False, embed=None, epochs=50, erasing=0.4, exist_ok=False, fliplr=0.5, flipud=0.0, format=torchscript, fraction=1.0, freeze=None, half=False, hsv_h=0.015, hsv_s=0.7, hsv_v=0.4, imgsz=320, int8=False, iou=0.7, keras=False, kobj=1.0, line_width=None, lr0=0.01, lrf=0.01, mask_ratio=4, max_det=300, mixup=0.0, mode=train, model=yolov8m.pt, momentum=0.937, mosaic=1.0, multi_scale=False, name=mnist_yolo_run7, nbs=64, nms=False, opset=None, optimize=False, optimizer=auto, overlap_mask=True, patience=100, perspective=0.0, plots=True, pose=12.0, pretrained=True, profile=False, project=/content/drive/MyDrive/yolo_mnist_training, rect=False, resume=False, retina_masks=False, save=True, save_conf=False, save_crop=False, save_dir=/content/drive/MyDrive/yolo_mnist_training/mnist_yolo_run7, save_frames=False, save_json=False, save_period=5, save_txt=False, scale=0.5, seed=0, shear=0.0, show=False, show_boxes=True, show_conf=True, show_labels=True, simplify=True, single_cls=False, source=None, split=val, stream_buffer=False, task=detect, time=None, tracker=botsort.yaml, translate=0.1, val=True, verbose=True, vid_stride=1, visualize=False, warmup_bias_lr=0.1, warmup_epochs=3.0, warmup_momentum=0.8, weight_decay=0.0005, workers=8, workspace=None\n",
            "Overriding model.yaml nc=80 with nc=10\n",
            "\n",
            "                   from  n    params  module                                       arguments                     \n",
            "  0                  -1  1      1392  ultralytics.nn.modules.conv.Conv             [3, 48, 3, 2]                 \n",
            "  1                  -1  1     41664  ultralytics.nn.modules.conv.Conv             [48, 96, 3, 2]                \n",
            "  2                  -1  2    111360  ultralytics.nn.modules.block.C2f             [96, 96, 2, True]             \n",
            "  3                  -1  1    166272  ultralytics.nn.modules.conv.Conv             [96, 192, 3, 2]               \n",
            "  4                  -1  4    813312  ultralytics.nn.modules.block.C2f             [192, 192, 4, True]           \n",
            "  5                  -1  1    664320  ultralytics.nn.modules.conv.Conv             [192, 384, 3, 2]              \n",
            "  6                  -1  4   3248640  ultralytics.nn.modules.block.C2f             [384, 384, 4, True]           \n",
            "  7                  -1  1   1991808  ultralytics.nn.modules.conv.Conv             [384, 576, 3, 2]              \n",
            "  8                  -1  2   3985920  ultralytics.nn.modules.block.C2f             [576, 576, 2, True]           \n",
            "  9                  -1  1    831168  ultralytics.nn.modules.block.SPPF            [576, 576, 5]                 \n",
            " 10                  -1  1         0  torch.nn.modules.upsampling.Upsample         [None, 2, 'nearest']          \n",
            " 11             [-1, 6]  1         0  ultralytics.nn.modules.conv.Concat           [1]                           \n",
            " 12                  -1  2   1993728  ultralytics.nn.modules.block.C2f             [960, 384, 2]                 \n",
            " 13                  -1  1         0  torch.nn.modules.upsampling.Upsample         [None, 2, 'nearest']          \n",
            " 14             [-1, 4]  1         0  ultralytics.nn.modules.conv.Concat           [1]                           \n",
            " 15                  -1  2    517632  ultralytics.nn.modules.block.C2f             [576, 192, 2]                 \n",
            " 16                  -1  1    332160  ultralytics.nn.modules.conv.Conv             [192, 192, 3, 2]              \n",
            " 17            [-1, 12]  1         0  ultralytics.nn.modules.conv.Concat           [1]                           \n",
            " 18                  -1  2   1846272  ultralytics.nn.modules.block.C2f             [576, 384, 2]                 \n",
            " 19                  -1  1   1327872  ultralytics.nn.modules.conv.Conv             [384, 384, 3, 2]              \n",
            " 20             [-1, 9]  1         0  ultralytics.nn.modules.conv.Concat           [1]                           \n",
            " 21                  -1  2   4207104  ultralytics.nn.modules.block.C2f             [960, 576, 2]                 \n",
            " 22        [15, 18, 21]  1   3781486  ultralytics.nn.modules.head.Detect           [10, [192, 384, 576]]         \n",
            "Model summary: 169 layers, 25,862,110 parameters, 25,862,094 gradients, 79.1 GFLOPs\n",
            "\n",
            "Transferred 469/475 items from pretrained weights\n",
            "Freezing layer 'model.22.dfl.conv.weight'\n",
            "\u001b[34m\u001b[1mAMP: \u001b[0mrunning Automatic Mixed Precision (AMP) checks...\n",
            "\u001b[34m\u001b[1mAMP: \u001b[0mchecks passed ✅\n",
            "\u001b[34m\u001b[1mtrain: \u001b[0mFast image access ✅ (ping: 0.0±0.0 ms, read: 204.5±101.9 MB/s, size: 2.8 KB)\n",
            "\u001b[K\u001b[34m\u001b[1mtrain: \u001b[0mScanning /content/mnist_yolo/labels/train.cache... 4000 images, 0 backgrounds, 0 corrupt: 100% ━━━━━━━━━━━━ 4000/4000 6.9Mit/s 0.0s\n",
            "\u001b[34m\u001b[1malbumentations: \u001b[0mBlur(p=0.01, blur_limit=(3, 7)), MedianBlur(p=0.01, blur_limit=(3, 7)), ToGray(p=0.01, method='weighted_average', num_output_channels=3), CLAHE(p=0.01, clip_limit=(1.0, 4.0), tile_grid_size=(8, 8))\n",
            "\u001b[34m\u001b[1mval: \u001b[0mFast image access ✅ (ping: 0.0±0.0 ms, read: 70.2±25.3 MB/s, size: 2.7 KB)\n",
            "\u001b[K\u001b[34m\u001b[1mval: \u001b[0mScanning /content/mnist_yolo/labels/val.cache... 1000 images, 0 backgrounds, 0 corrupt: 100% ━━━━━━━━━━━━ 1000/1000 226.3Kit/s 0.0s\n",
            "Plotting labels to /content/drive/MyDrive/yolo_mnist_training/mnist_yolo_run7/labels.jpg... \n",
            "\u001b[34m\u001b[1moptimizer:\u001b[0m 'optimizer=auto' found, ignoring 'lr0=0.01' and 'momentum=0.937' and determining best 'optimizer', 'lr0' and 'momentum' automatically... \n",
            "\u001b[34m\u001b[1moptimizer:\u001b[0m AdamW(lr=0.000714, momentum=0.9) with parameter groups 77 weight(decay=0.0), 84 weight(decay=0.0005), 83 bias(decay=0.0)\n",
            "Image sizes 320 train, 320 val\n",
            "Using 8 dataloader workers\n",
            "Logging results to \u001b[1m/content/drive/MyDrive/yolo_mnist_training/mnist_yolo_run7\u001b[0m\n",
            "Starting training for 50 epochs...\n",
            "\n",
            "      Epoch    GPU_mem   box_loss   cls_loss   dfl_loss  Instances       Size\n",
            "\u001b[K       1/50      2.99G      1.152      1.318      0.927        136        320: 100% ━━━━━━━━━━━━ 250/250 6.0it/s 41.5s\n",
            "\u001b[K                 Class     Images  Instances      Box(P          R      mAP50  mAP50-95): 100% ━━━━━━━━━━━━ 32/32 5.9it/s 5.5s\n",
            "                   all       1000       6526      0.936      0.888      0.955      0.574\n",
            "\n",
            "      Epoch    GPU_mem   box_loss   cls_loss   dfl_loss  Instances       Size\n",
            "\u001b[K       2/50      3.05G     0.7871      0.651     0.8439        149        320: 100% ━━━━━━━━━━━━ 250/250 6.3it/s 39.7s\n",
            "\u001b[K                 Class     Images  Instances      Box(P          R      mAP50  mAP50-95): 100% ━━━━━━━━━━━━ 32/32 6.0it/s 5.4s\n",
            "                   all       1000       6526      0.957      0.926      0.975       0.79\n",
            "\n",
            "      Epoch    GPU_mem   box_loss   cls_loss   dfl_loss  Instances       Size\n",
            "\u001b[K       3/50      3.12G     0.7272     0.5661      0.832        130        320: 100% ━━━━━━━━━━━━ 250/250 6.3it/s 39.6s\n",
            "\u001b[K                 Class     Images  Instances      Box(P          R      mAP50  mAP50-95): 100% ━━━━━━━━━━━━ 32/32 6.0it/s 5.3s\n",
            "                   all       1000       6526      0.957      0.921      0.974      0.813\n",
            "\n",
            "      Epoch    GPU_mem   box_loss   cls_loss   dfl_loss  Instances       Size\n",
            "\u001b[K       4/50      3.12G     0.6973     0.5272     0.8258        165        320: 100% ━━━━━━━━━━━━ 250/250 6.4it/s 38.8s\n",
            "\u001b[K                 Class     Images  Instances      Box(P          R      mAP50  mAP50-95): 100% ━━━━━━━━━━━━ 32/32 6.0it/s 5.3s\n",
            "                   all       1000       6526      0.968      0.938      0.983       0.85\n",
            "\n",
            "      Epoch    GPU_mem   box_loss   cls_loss   dfl_loss  Instances       Size\n",
            "\u001b[K       5/50      3.12G     0.6435     0.4934     0.8187        148        320: 100% ━━━━━━━━━━━━ 250/250 6.4it/s 38.9s\n",
            "\u001b[K                 Class     Images  Instances      Box(P          R      mAP50  mAP50-95): 100% ━━━━━━━━━━━━ 32/32 6.0it/s 5.3s\n",
            "                   all       1000       6526      0.974      0.938      0.983      0.813\n",
            "\n",
            "      Epoch    GPU_mem   box_loss   cls_loss   dfl_loss  Instances       Size\n",
            "\u001b[K       6/50      3.12G     0.6347     0.4772      0.817        135        320: 100% ━━━━━━━━━━━━ 250/250 6.4it/s 38.8s\n",
            "\u001b[K                 Class     Images  Instances      Box(P          R      mAP50  mAP50-95): 100% ━━━━━━━━━━━━ 32/32 6.0it/s 5.3s\n",
            "                   all       1000       6526       0.97      0.941      0.984      0.824\n",
            "\n",
            "      Epoch    GPU_mem   box_loss   cls_loss   dfl_loss  Instances       Size\n",
            "\u001b[K       7/50      3.19G     0.5968      0.455     0.8123        127        320: 100% ━━━━━━━━━━━━ 250/250 6.4it/s 39.1s\n",
            "\u001b[K                 Class     Images  Instances      Box(P          R      mAP50  mAP50-95): 100% ━━━━━━━━━━━━ 32/32 6.0it/s 5.4s\n",
            "                   all       1000       6526      0.977      0.946      0.987      0.842\n",
            "\n",
            "      Epoch    GPU_mem   box_loss   cls_loss   dfl_loss  Instances       Size\n",
            "\u001b[K       8/50      3.19G     0.6019     0.4427     0.8125        107        320: 100% ━━━━━━━━━━━━ 250/250 6.4it/s 38.9s\n",
            "\u001b[K                 Class     Images  Instances      Box(P          R      mAP50  mAP50-95): 100% ━━━━━━━━━━━━ 32/32 6.0it/s 5.3s\n",
            "                   all       1000       6526      0.979      0.948      0.988      0.853\n",
            "\n",
            "      Epoch    GPU_mem   box_loss   cls_loss   dfl_loss  Instances       Size\n",
            "\u001b[K       9/50      3.19G      0.575     0.4098     0.8085        144        320: 100% ━━━━━━━━━━━━ 250/250 6.4it/s 38.8s\n",
            "\u001b[K                 Class     Images  Instances      Box(P          R      mAP50  mAP50-95): 100% ━━━━━━━━━━━━ 32/32 6.0it/s 5.3s\n",
            "                   all       1000       6526      0.981      0.942      0.987      0.858\n",
            "\n",
            "      Epoch    GPU_mem   box_loss   cls_loss   dfl_loss  Instances       Size\n",
            "\u001b[K      10/50      3.19G     0.5663      0.421      0.809        160        320: 100% ━━━━━━━━━━━━ 250/250 6.4it/s 38.9s\n",
            "\u001b[K                 Class     Images  Instances      Box(P          R      mAP50  mAP50-95): 100% ━━━━━━━━━━━━ 32/32 5.9it/s 5.4s\n",
            "                   all       1000       6526      0.976      0.954      0.989      0.865\n",
            "\n",
            "      Epoch    GPU_mem   box_loss   cls_loss   dfl_loss  Instances       Size\n",
            "\u001b[K      11/50      3.19G     0.5504     0.4061     0.8062        158        320: 100% ━━━━━━━━━━━━ 250/250 6.4it/s 38.8s\n",
            "\u001b[K                 Class     Images  Instances      Box(P          R      mAP50  mAP50-95): 100% ━━━━━━━━━━━━ 32/32 6.0it/s 5.4s\n",
            "                   all       1000       6526      0.981      0.951      0.989      0.875\n",
            "\n",
            "      Epoch    GPU_mem   box_loss   cls_loss   dfl_loss  Instances       Size\n",
            "\u001b[K      12/50      3.19G     0.5401     0.3976     0.8058        164        320: 100% ━━━━━━━━━━━━ 250/250 6.4it/s 39.0s\n",
            "\u001b[K                 Class     Images  Instances      Box(P          R      mAP50  mAP50-95): 100% ━━━━━━━━━━━━ 32/32 6.0it/s 5.3s\n",
            "                   all       1000       6526      0.978      0.948      0.988      0.886\n",
            "\n",
            "      Epoch    GPU_mem   box_loss   cls_loss   dfl_loss  Instances       Size\n",
            "\u001b[K      13/50      3.19G     0.5261     0.3856     0.8029        176        320: 100% ━━━━━━━━━━━━ 250/250 6.4it/s 38.9s"
          ]
        }
      ]
    },
    {
      "cell_type": "code",
      "source": [
        "# ======================================================\n",
        "# 5️⃣ Visualisation des courbes (loss et mAP)\n",
        "# ======================================================\n",
        "import pandas as pd\n",
        "import matplotlib.pyplot as plt\n",
        "metrics_path = \"mnist_yolo_train/yolov8m/results.csv\"\n",
        "df = pd.read_csv(metrics_path)\n",
        "\n",
        "plt.figure(figsize=(12,5))\n",
        "plt.subplot(1,2,1)\n",
        "plt.plot(df['epoch'], df['train/box_loss'], label='Box Loss')\n",
        "plt.plot(df['epoch'], df['train/cls_loss'], label='Class Loss')\n",
        "plt.plot(df['epoch'], df['train/dfl_loss'], label='DFL Loss')\n",
        "plt.xlabel('Epoch')\n",
        "plt.ylabel('Loss')\n",
        "plt.title('Courbes de perte (Loss)')\n",
        "plt.legend()\n",
        "\n",
        "plt.subplot(1,2,2)\n",
        "plt.plot(df['epoch'], df['metrics/mAP50'], label='mAP@50')\n",
        "plt.plot(df['epoch'], df['metrics/mAP50-95'], label='mAP@50-95')\n",
        "plt.xlabel('Epoch')\n",
        "plt.ylabel('mAP')\n",
        "plt.title('Précision moyenne (mAP)')\n",
        "plt.legend()\n",
        "plt.tight_layout()\n",
        "plt.show()\n"
      ],
      "metadata": {
        "id": "iNmzQ-yh4hEP"
      },
      "execution_count": null,
      "outputs": []
    },
    {
      "cell_type": "code",
      "source": [
        "# ======================================================\n",
        "# 6️⃣ Test de prédiction\n",
        "# ======================================================\n",
        "results = model.predict(\"mnist_yolo/images/val/5.jpg\", save=True, imgsz=320)\n",
        "results[0].show()\n",
        "\n",
        "# ======================================================\n",
        "# 7️⃣ Sauvegarde du modèle entraîné dans Drive\n",
        "# ======================================================\n",
        "import shutil\n",
        "src = \"mnist_yolo_train/yolov8m/weights/best.pt\"\n",
        "dst = os.path.join(save_dir, \"best.pt\")\n",
        "shutil.copy(src, dst)\n",
        "\n",
        "print(f\"✅ Modèle sauvegardé ici : {dst}\")"
      ],
      "metadata": {
        "id": "JNHeDf4D4nB4"
      },
      "execution_count": null,
      "outputs": []
    }
  ]
}