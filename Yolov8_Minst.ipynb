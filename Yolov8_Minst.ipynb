{
  "nbformat": 4,
  "nbformat_minor": 0,
  "metadata": {
    "colab": {
      "provenance": [],
      "machine_shape": "hm",
      "gpuType": "T4",
      "authorship_tag": "ABX9TyPtXZkMGoiJHJ41aB5fII6f",
      "include_colab_link": true
    },
    "kernelspec": {
      "name": "python3",
      "display_name": "Python 3"
    },
    "language_info": {
      "name": "python"
    },
    "accelerator": "GPU"
  },
  "cells": [
    {
      "cell_type": "markdown",
      "metadata": {
        "id": "view-in-github",
        "colab_type": "text"
      },
      "source": [
        "<a href=\"https://colab.research.google.com/github/Didier06/IA_FABLAB/blob/main/Yolov8_Minst.ipynb\" target=\"_parent\"><img src=\"https://colab.research.google.com/assets/colab-badge.svg\" alt=\"Open In Colab\"/></a>"
      ]
    },
    {
      "cell_type": "code",
      "execution_count": null,
      "metadata": {
        "id": "PaCCj2rOzf1m"
      },
      "outputs": [],
      "source": [
        "# ======================================================\n",
        "# 🧠 MNIST multi-chiffres avec YOLOv8m (Ultralytics)\n",
        "# ======================================================\n",
        "\n",
        "!pip install ultralytics torchvision tqdm pyyaml --quiet\n",
        "\n",
        "from torchvision import datasets\n",
        "from PIL import Image\n",
        "import random, os, yaml\n",
        "from tqdm import tqdm"
      ]
    },
    {
      "cell_type": "code",
      "source": [
        "# ======================================================\n",
        "# 1️⃣ Monter Google Drive pour sauvegarder le modèle\n",
        "# ======================================================\n",
        "from google.colab import drive\n",
        "drive.mount('/content/drive')\n",
        "\n",
        "save_dir = \"/content/drive/MyDrive/MNIST_YOLOv8m\"\n",
        "os.makedirs(save_dir, exist_ok=True)\n",
        "print(f\"📁 Modèle sera sauvegardé dans : {save_dir}\")"
      ],
      "metadata": {
        "id": "kTJNy3QNztkf"
      },
      "execution_count": null,
      "outputs": []
    },
    {
      "cell_type": "code",
      "source": [
        "# ======================================================\n",
        "# 2️⃣ Génération du dataset multi-chiffres (3 à 10)\n",
        "# ======================================================\n",
        "mnist = datasets.MNIST(root=\"data\", train=True, download=True)\n",
        "\n",
        "os.makedirs(\"mnist_yolo/images/train\", exist_ok=True)\n",
        "os.makedirs(\"mnist_yolo/labels/train\", exist_ok=True)\n",
        "os.makedirs(\"mnist_yolo/images/val\", exist_ok=True)\n",
        "os.makedirs(\"mnist_yolo/labels/val\", exist_ok=True)\n",
        "\n",
        "def create_images(nb_images, split):\n",
        "    for i in tqdm(range(nb_images), desc=f\"Génération {split}\"):\n",
        "        img = Image.new(\"L\", (320, 320), color=0)\n",
        "        nb_digits = random.randint(3, 10)\n",
        "        label_lines = []\n",
        "\n",
        "        for _ in range(nb_digits):\n",
        "            idx = random.randint(0, len(mnist) - 1)\n",
        "            digit_img, label = mnist[idx]\n",
        "            x = random.randint(0, 320 - 28)\n",
        "            y = random.randint(0, 320 - 28)\n",
        "            img.paste(digit_img, (x, y))\n",
        "\n",
        "            xc = (x + 14) / 320\n",
        "            yc = (y + 14) / 320\n",
        "            w = 28 / 320\n",
        "            h = 28 / 320\n",
        "            label_lines.append(f\"{label} {xc:.6f} {yc:.6f} {w:.6f} {h:.6f}\")\n",
        "\n",
        "        img.save(f\"mnist_yolo/images/{split}/{i}.jpg\")\n",
        "        with open(f\"mnist_yolo/labels/{split}/{i}.txt\", \"w\") as f:\n",
        "            f.write(\"\\n\".join(label_lines))\n",
        "\n",
        "create_images(4000, \"train\")\n",
        "create_images(1000, \"val\")"
      ],
      "metadata": {
        "id": "dsJv-Ft7zrGH"
      },
      "execution_count": null,
      "outputs": []
    },
    {
      "cell_type": "code",
      "source": [
        "# ======================================================\n",
        "# 3️⃣ Fichier de configuration data.yaml\n",
        "# ======================================================\n",
        "import yaml\n",
        "\n",
        "with open(\"mnist_yolo/data.yaml\", \"w\") as f:\n",
        "    yaml.dump({\n",
        "        'path': '/content/mnist_yolo',  # dossier racine du dataset\n",
        "        'train': 'images/train',\n",
        "        'val': 'images/val',\n",
        "        'nc': 10,\n",
        "        'names': [str(i) for i in range(10)]\n",
        "    }, f)\n",
        "\n",
        "print(\"✅ Dataset YOLOv8 prêt\")\n"
      ],
      "metadata": {
        "id": "-TzVL1Ka1ZVa"
      },
      "execution_count": null,
      "outputs": []
    },
    {
      "cell_type": "code",
      "source": [
        "!nvidia-smi"
      ],
      "metadata": {
        "id": "tcWbkdIg9U9T"
      },
      "execution_count": null,
      "outputs": []
    },
    {
      "cell_type": "code",
      "source": [
        "# ======================================================\n",
        "# 🔁 Entraînement YOLOv8m avec vraie reprise Drive (même dossier, même epoch)\n",
        "# ======================================================\n",
        "import os\n",
        "from ultralytics import YOLO\n",
        "from google.colab import drive\n",
        "\n",
        "# 1️⃣ Monter Google Drive\n",
        "drive.mount('/content/drive')\n",
        "\n",
        "# 2️⃣ Paramètres\n",
        "drive_dir = '/content/drive/MyDrive/yolo_mnist_training'\n",
        "run_name  = 'mnist_yolo_run'\n",
        "data_yaml = '/content/mnist_yolo/data.yaml'  # chemin de ton YAML\n",
        "base_model = 'yolov8m.pt'\n",
        "img_size = 320\n",
        "epochs_total = 50\n",
        "\n",
        "# 3️⃣ Dossier de run complet\n",
        "run_dir = f\"{drive_dir}/{run_name}\"\n",
        "os.makedirs(run_dir, exist_ok=True)\n",
        "\n",
        "# 4️⃣ Vérifie s’il y a un checkpoint existant\n",
        "last_ckpt = os.path.join(run_dir, 'weights', 'last.pt')\n",
        "\n",
        "if os.path.exists(last_ckpt):\n",
        "    print(f\"🔁 Reprise automatique depuis : {last_ckpt}\")\n",
        "    model = YOLO(last_ckpt)\n",
        "    resume_mode = True\n",
        "else:\n",
        "    print(\"🆕 Nouveau départ avec yolov8m.pt\")\n",
        "    model = YOLO(base_model)\n",
        "    resume_mode = False\n",
        "\n",
        "# 5️⃣ Entraînement avec vraie reprise native\n",
        "results = model.train(\n",
        "    data=data_yaml,\n",
        "    epochs=epochs_total,\n",
        "    imgsz=img_size,\n",
        "    project=drive_dir,     # <-- ton Drive comme projet\n",
        "    name=run_name,         # <-- même nom de run (critique)\n",
        "    resume=resume_mode,    # ✅ permet à YOLO de reprendre dans le même dossier\n",
        "    save_period=2,         # ✅ sauvegarde tous les 5 epochs\n",
        "    exist_ok=True,         # ✅ évite la création de _2, _3, _8\n",
        "    device=0               # GPU unique (Colab)\n",
        ")\n",
        "\n",
        "print(\"✅ Entraînement terminé ou repris avec succès !\")\n"
      ],
      "metadata": {
        "id": "8InuZ_tS2xAT"
      },
      "execution_count": null,
      "outputs": []
    },
    {
      "cell_type": "code",
      "source": [
        "# ======================================================\n",
        "# 5️⃣ Visualisation des courbes (loss et mAP)\n",
        "# ======================================================\n",
        "import pandas as pd\n",
        "import matplotlib.pyplot as plt\n",
        "\n",
        "# 🧭 Chemin vers ton dossier de run sur Google Drive\n",
        "metrics_path = \"/content/drive/MyDrive/yolo_mnist_training/mnist_yolo_run/results.csv\"\n",
        "\n",
        "# Lecture du fichier CSV\n",
        "df = pd.read_csv(metrics_path)\n",
        "\n",
        "# --- Visualisation ---\n",
        "plt.figure(figsize=(12,5))\n",
        "\n",
        "# 📉 Pertes (Loss)\n",
        "plt.subplot(1,2,1)\n",
        "plt.plot(df['epoch'], df['train/box_loss'], label='Box Loss')\n",
        "plt.plot(df['epoch'], df['train/cls_loss'], label='Class Loss')\n",
        "plt.plot(df['epoch'], df['train/dfl_loss'], label='DFL Loss')\n",
        "plt.xlabel('Epoch')\n",
        "plt.ylabel('Loss')\n",
        "plt.title('Courbes de perte (Loss)')\n",
        "plt.legend()\n",
        "\n",
        "# 📈 Précision (mAP)\n",
        "plt.subplot(1,2,2)\n",
        "plt.plot(df['epoch'], df['metrics/mAP50'], label='mAP@50')\n",
        "plt.plot(df['epoch'], df['metrics/mAP50-95'], label='mAP@50-95')\n",
        "plt.xlabel('Epoch')\n",
        "plt.ylabel('mAP')\n",
        "plt.title('Précision moyenne (mAP)')\n",
        "plt.legend()\n",
        "\n",
        "plt.tight_layout()\n",
        "plt.show()\n"
      ],
      "metadata": {
        "id": "iNmzQ-yh4hEP"
      },
      "execution_count": null,
      "outputs": []
    },
    {
      "cell_type": "code",
      "source": [
        "# ======================================================\n",
        "# 6️⃣ Test de prédiction (sur ton modèle sauvegardé sur Drive)\n",
        "# ======================================================\n",
        "from ultralytics import YOLO\n",
        "\n",
        "# Chemin vers le modèle entraîné (best.pt sur ton Drive)\n",
        "model_path = \"/content/drive/MyDrive/yolo_mnist_training/mnist_yolo_run/weights/best.pt\"\n",
        "\n",
        "# Charger le modèle final\n",
        "model = YOLO(model_path)\n",
        "\n",
        "# Image de test\n",
        "test_image = \"mnist_yolo/images/val/5.jpg\"\n",
        "\n",
        "# Lancer la prédiction et sauvegarder le résultat\n",
        "results = model.predict(source=test_image, save=True, imgsz=320)\n",
        "\n",
        "# Afficher la prédiction directement dans Colab\n",
        "results[0].show()\n"
      ],
      "metadata": {
        "id": "JNHeDf4D4nB4"
      },
      "execution_count": null,
      "outputs": []
    }
  ]
}