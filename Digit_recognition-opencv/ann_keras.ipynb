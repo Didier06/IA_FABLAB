{
  "cells": [
    {
      "cell_type": "markdown",
      "metadata": {
        "id": "view-in-github",
        "colab_type": "text"
      },
      "source": [
        "<a href=\"https://colab.research.google.com/github/Didier06/IA_FABLAB/blob/main/Digit_recognition-opencv/ann_keras.ipynb\" target=\"_parent\"><img src=\"https://colab.research.google.com/assets/colab-badge.svg\" alt=\"Open In Colab\"/></a>"
      ]
    },
    {
      "cell_type": "code",
      "source": [
        "!git clone https://github.com/Didier06/IA_FABLAB"
      ],
      "metadata": {
        "colab": {
          "base_uri": "https://localhost:8080/"
        },
        "id": "4t0v6xHGPWlu",
        "outputId": "18ad0d3d-5178-4a40-da33-cbd9193feb00"
      },
      "execution_count": 15,
      "outputs": [
        {
          "output_type": "stream",
          "name": "stdout",
          "text": [
            "Cloning into 'IA_FABLAB'...\n",
            "remote: Enumerating objects: 41, done.\u001b[K\n",
            "remote: Counting objects: 100% (41/41), done.\u001b[K\n",
            "remote: Compressing objects: 100% (37/37), done.\u001b[K\n",
            "remote: Total 41 (delta 4), reused 0 (delta 0), pack-reused 0\u001b[K\n",
            "Receiving objects: 100% (41/41), 6.64 MiB | 15.78 MiB/s, done.\n",
            "Resolving deltas: 100% (4/4), done.\n"
          ]
        }
      ]
    },
    {
      "cell_type": "markdown",
      "metadata": {
        "id": "pCnNxXjhPPcg"
      },
      "source": [
        "## Un réseau avec keras pour lire les nombres de 0 à 9"
      ]
    },
    {
      "cell_type": "markdown",
      "metadata": {
        "id": "sl3MzkIqPPch"
      },
      "source": [
        "**Loading the MNIST dataset in Keras**"
      ]
    },
    {
      "cell_type": "code",
      "execution_count": 16,
      "metadata": {
        "id": "XrfhPJdOPPci"
      },
      "outputs": [],
      "source": [
        "from keras.datasets import mnist\n",
        "(train_images, train_labels), (test_images, test_labels) = mnist.load_data()"
      ]
    },
    {
      "cell_type": "code",
      "execution_count": 17,
      "metadata": {
        "colab": {
          "base_uri": "https://localhost:8080/"
        },
        "id": "ZyG1lUbTPPci",
        "outputId": "2166ea2e-abe0-47a0-bbee-062c091cd66e"
      },
      "outputs": [
        {
          "output_type": "execute_result",
          "data": {
            "text/plain": [
              "(60000, 28, 28)"
            ]
          },
          "metadata": {},
          "execution_count": 17
        }
      ],
      "source": [
        "train_images.shape # dimension de dimension 3"
      ]
    },
    {
      "cell_type": "code",
      "execution_count": 18,
      "metadata": {
        "colab": {
          "base_uri": "https://localhost:8080/"
        },
        "id": "VNb1NTuMPPcj",
        "outputId": "a6aaf744-ee48-4591-8bc6-fca4ca4789dd"
      },
      "outputs": [
        {
          "output_type": "execute_result",
          "data": {
            "text/plain": [
              "60000"
            ]
          },
          "metadata": {},
          "execution_count": 18
        }
      ],
      "source": [
        "len(train_labels) # obtenir la longueur des étiquettes (60 000 de 0 à 9)\n",
        "#print(train_labels)"
      ]
    },
    {
      "cell_type": "code",
      "execution_count": 19,
      "metadata": {
        "colab": {
          "base_uri": "https://localhost:8080/"
        },
        "id": "Bx3lQYWIPPcj",
        "outputId": "6948ae98-286f-4ad1-9367-f242f37317d2"
      },
      "outputs": [
        {
          "output_type": "execute_result",
          "data": {
            "text/plain": [
              "array([5, 0, 4, ..., 5, 6, 8], dtype=uint8)"
            ]
          },
          "metadata": {},
          "execution_count": 19
        }
      ],
      "source": [
        "train_labels # affiche train_labels"
      ]
    },
    {
      "cell_type": "code",
      "execution_count": 20,
      "metadata": {
        "colab": {
          "base_uri": "https://localhost:8080/"
        },
        "id": "WQjgYe0iPPcj",
        "outputId": "57fcea01-f39c-4ce9-b6d6-f2b5e36ed5da"
      },
      "outputs": [
        {
          "output_type": "execute_result",
          "data": {
            "text/plain": [
              "(10000, 28, 28)"
            ]
          },
          "metadata": {},
          "execution_count": 20
        }
      ],
      "source": [
        "test_images.shape"
      ]
    },
    {
      "cell_type": "code",
      "execution_count": 21,
      "metadata": {
        "colab": {
          "base_uri": "https://localhost:8080/"
        },
        "id": "u3bQWxq5PPcj",
        "outputId": "0012b5a2-5479-4332-c9b0-3da6e6352624"
      },
      "outputs": [
        {
          "output_type": "execute_result",
          "data": {
            "text/plain": [
              "10000"
            ]
          },
          "metadata": {},
          "execution_count": 21
        }
      ],
      "source": [
        "len(test_labels)"
      ]
    },
    {
      "cell_type": "code",
      "execution_count": 22,
      "metadata": {
        "colab": {
          "base_uri": "https://localhost:8080/"
        },
        "id": "p7rzNXXhPPcj",
        "outputId": "7b9001e9-5e18-4bd9-a82e-29ce6a9945e6"
      },
      "outputs": [
        {
          "output_type": "execute_result",
          "data": {
            "text/plain": [
              "array([7, 2, 1, ..., 4, 5, 6], dtype=uint8)"
            ]
          },
          "metadata": {},
          "execution_count": 22
        }
      ],
      "source": [
        "test_labels"
      ]
    },
    {
      "cell_type": "markdown",
      "metadata": {
        "id": "uGAsZcOzPPcj"
      },
      "source": [
        "**Architecture du réseau**"
      ]
    },
    {
      "cell_type": "code",
      "execution_count": 23,
      "metadata": {
        "id": "6bV-QTq-PPcj"
      },
      "outputs": [],
      "source": [
        "from tensorflow import keras\n",
        "from keras import layers\n",
        "\"\"\" Un réseau neuronal récurrent (RNN) est un modèle de deep learning\n",
        "qui est entraîné pour traiter et convertir une entrée de données séquentielle\n",
        "en une sortie de données séquentielle spécifique.\"\"\"\n",
        "model = keras.Sequential([\n",
        "    layers.Dense(512, activation=\"relu\"),# 512 neurones activation relu en entrée une image 28*28 bits\n",
        "    layers.Dense(10, activation=\"softmax\")# 10  classes à prédire : 0-9\n",
        "])"
      ]
    },
    {
      "cell_type": "markdown",
      "metadata": {
        "id": "s91FJ_hOPPck"
      },
      "source": [
        "**Compilation du réseau**"
      ]
    },
    {
      "cell_type": "code",
      "execution_count": 24,
      "metadata": {
        "id": "yW5SGfHaPPck"
      },
      "outputs": [],
      "source": [
        "# compilation du modèle\n",
        "model.compile(optimizer=\"adam\",loss=\"categorical_crossentropy\",metrics=[\"accuracy\"])\n"
      ]
    },
    {
      "cell_type": "markdown",
      "metadata": {
        "id": "1VAlqP_DPPck"
      },
      "source": [
        "**Preparation des données (images)**"
      ]
    },
    {
      "cell_type": "code",
      "execution_count": 25,
      "metadata": {
        "id": "FytlslLyPPck"
      },
      "outputs": [],
      "source": [
        "train_images_keras = train_images.reshape((60000, 28 * 28))# 2 dimensions : une étiquette et une vecteur de longueur 28*28 = 784\n",
        "train_images_keras = train_images_keras.astype(\"float32\") / 255 #  on normalise les pixels valeur dans l'intervalle [0,1]\n",
        "test_images_keras = test_images.reshape((10000, 28 * 28))\n",
        "test_images_keras = test_images_keras.astype(\"float32\") / 255\n",
        "\n",
        "train_labels_keras = keras.utils.to_categorical(train_labels) # [5] --> [0. 0. 0. 0. 0. 1. 0. 0. 0. 0.] réprésentation du label 5\n",
        "test_labels_keras = keras.utils.to_categorical(test_labels)\n",
        "#print(train_labels[0:2])\n",
        "#print(train_labels_keras[0:2])\n"
      ]
    },
    {
      "cell_type": "markdown",
      "metadata": {
        "id": "G-R-z9SmPPck"
      },
      "source": [
        "**Entrainement du modèle (Fitting\" the model)**"
      ]
    },
    {
      "cell_type": "code",
      "execution_count": 26,
      "metadata": {
        "colab": {
          "base_uri": "https://localhost:8080/"
        },
        "id": "o_9fGMwyPPck",
        "outputId": "a70b31b3-a731-413c-c9ae-2e571155c491"
      },
      "outputs": [
        {
          "output_type": "stream",
          "name": "stdout",
          "text": [
            "Epoch 1/5\n",
            "469/469 [==============================] - 5s 9ms/step - loss: 0.2663 - accuracy: 0.9238 - val_loss: 0.1324 - val_accuracy: 0.9614\n",
            "Epoch 2/5\n",
            "469/469 [==============================] - 5s 10ms/step - loss: 0.1091 - accuracy: 0.9681 - val_loss: 0.0920 - val_accuracy: 0.9731\n",
            "Epoch 3/5\n",
            "469/469 [==============================] - 4s 8ms/step - loss: 0.0716 - accuracy: 0.9789 - val_loss: 0.0807 - val_accuracy: 0.9745\n",
            "Epoch 4/5\n",
            "469/469 [==============================] - 4s 8ms/step - loss: 0.0496 - accuracy: 0.9856 - val_loss: 0.0731 - val_accuracy: 0.9770\n",
            "Epoch 5/5\n",
            "469/469 [==============================] - 5s 10ms/step - loss: 0.0367 - accuracy: 0.9891 - val_loss: 0.0699 - val_accuracy: 0.9767\n",
            "313/313 [==============================] - 1s 2ms/step - loss: 0.0699 - accuracy: 0.9767\n",
            "Neural network accuracy: 97.67 % \n"
          ]
        }
      ],
      "source": [
        "model.fit(train_images_keras, train_labels_keras,validation_data=(test_images_keras, test_labels_keras),epochs=5, batch_size=128)\n",
        "scores = model.evaluate(test_images_keras, test_labels_keras)\n",
        "print(f\"Neural network accuracy: {scores[1]*100:.2f} % \") #o, multiplie par 100 et on garde 2 chiffres après la virgule\n",
        "# échantillon 60 000/128"
      ]
    },
    {
      "cell_type": "markdown",
      "metadata": {
        "id": "KiKG2BrQPPck"
      },
      "source": [
        "**Sauvegarde du réseau (Saving the model)**"
      ]
    },
    {
      "cell_type": "code",
      "execution_count": 28,
      "metadata": {
        "colab": {
          "base_uri": "https://localhost:8080/"
        },
        "id": "PWu7xSDNPPck",
        "outputId": "1792aa03-1f15-4662-d09b-9fd878642062"
      },
      "outputs": [
        {
          "output_type": "stream",
          "name": "stdout",
          "text": [
            "Model: \"sequential_1\"\n",
            "_________________________________________________________________\n",
            " Layer (type)                Output Shape              Param #   \n",
            "=================================================================\n",
            " dense_2 (Dense)             (None, 512)               401920    \n",
            "                                                                 \n",
            " dense_3 (Dense)             (None, 10)                5130      \n",
            "                                                                 \n",
            "=================================================================\n",
            "Total params: 407050 (1.55 MB)\n",
            "Trainable params: 407050 (1.55 MB)\n",
            "Non-trainable params: 0 (0.00 Byte)\n",
            "_________________________________________________________________\n"
          ]
        }
      ],
      "source": [
        "model.save('/content/IA_FABLAB/Digit_recognition-opencv/model/model_ANN_dense.keras')# format .keras\n",
        "model.summary()"
      ]
    },
    {
      "cell_type": "markdown",
      "metadata": {
        "id": "dHm5ZDz_PPcl"
      },
      "source": [
        "**Utilisation du modèle pour faire des prédistions (Using the model to make predictions)**"
      ]
    },
    {
      "cell_type": "code",
      "execution_count": 29,
      "metadata": {
        "colab": {
          "base_uri": "https://localhost:8080/"
        },
        "id": "VCQksjyjPPcl",
        "outputId": "8427e031-8cad-472f-f481-9cc74e30445d"
      },
      "outputs": [
        {
          "output_type": "stream",
          "name": "stdout",
          "text": [
            "1/1 [==============================] - 0s 72ms/step\n",
            "[2.5573927e-06 6.4449171e-07 6.3391133e-05 3.1367633e-03 2.1476592e-09\n",
            " 6.3124035e-06 3.8100949e-11 9.9672258e-01 3.5013316e-05 3.2718210e-05]\n",
            "Chiffre prédit pour la première image :  7\n",
            "[2.4846340e-08 3.8235823e-05 9.9995798e-01 1.9143051e-06 1.3461349e-11\n",
            " 1.2802882e-08 2.3988379e-08 3.9908723e-12 1.8034756e-06 6.2779691e-13]\n",
            "Chiffre prédit pour la 2ème image :  2\n"
          ]
        }
      ],
      "source": [
        "test_digits = test_images_keras[0:10] # 10 images à tester\n",
        "predictions = model.predict([test_digits])\n",
        "#print(test_digits.shape)\n",
        "print(predictions[0])\n",
        "print(\"Chiffre prédit pour la première image : \", predictions[0].argmax())# index  of the class with highest probability\n",
        "print(predictions[1])\n",
        "print(\"Chiffre prédit pour la 2ème image : \", predictions[1].argmax())# index  of the class with highest probability"
      ]
    },
    {
      "cell_type": "code",
      "execution_count": 30,
      "metadata": {
        "colab": {
          "base_uri": "https://localhost:8080/"
        },
        "id": "Q7aQ9pQhPPcl",
        "outputId": "4e13ffaa-803a-4144-dd61-2427abdf5c2b"
      },
      "outputs": [
        {
          "output_type": "stream",
          "name": "stdout",
          "text": [
            "0.9967226\n",
            "0.999958\n"
          ]
        }
      ],
      "source": [
        "print(predictions[0][7])  # autre façon pour afficher les prédictions\n",
        "print(predictions[1][2])"
      ]
    },
    {
      "cell_type": "code",
      "execution_count": 31,
      "metadata": {
        "colab": {
          "base_uri": "https://localhost:8080/"
        },
        "id": "x9MgEISuPPcl",
        "outputId": "3e39d467-34f1-4f12-f4d3-457439adf6ce"
      },
      "outputs": [
        {
          "output_type": "stream",
          "name": "stdout",
          "text": [
            "7\n",
            "2\n"
          ]
        }
      ],
      "source": [
        "print(test_labels[0])# vérification\n",
        "print(test_labels[1])\n"
      ]
    },
    {
      "cell_type": "markdown",
      "metadata": {
        "id": "AwXj-aDUPPcl"
      },
      "source": [
        "**Evaluiation du modèle avec les données de test avec la méthode évaluate (Evaluating the model on new data)**"
      ]
    },
    {
      "cell_type": "code",
      "execution_count": 32,
      "metadata": {
        "colab": {
          "base_uri": "https://localhost:8080/"
        },
        "id": "TB_fggDVPPcl",
        "outputId": "7f22c4bf-8793-4391-ee97-8dd2733bda13"
      },
      "outputs": [
        {
          "output_type": "stream",
          "name": "stdout",
          "text": [
            "313/313 [==============================] - 1s 2ms/step - loss: 0.0699 - accuracy: 0.9767\n",
            "test_acc: 0.9767\n"
          ]
        }
      ],
      "source": [
        "test_loss, test_acc = model.evaluate(test_images_keras, test_labels_keras)\n",
        "print(f\"test_acc: {test_acc:.4f}\")"
      ]
    },
    {
      "cell_type": "markdown",
      "metadata": {
        "id": "zKCPs1iyPPcl"
      },
      "source": [
        "**Affichage des digits (Displaying the digi)**"
      ]
    },
    {
      "cell_type": "code",
      "execution_count": 33,
      "metadata": {
        "colab": {
          "base_uri": "https://localhost:8080/",
          "height": 273
        },
        "id": "0qOMiwlFPPcl",
        "outputId": "573e40f2-9777-4fb6-9ad4-54a5455b924a"
      },
      "outputs": [
        {
          "output_type": "display_data",
          "data": {
            "text/plain": [
              "<Figure size 600x600 with 2 Axes>"
            ],
            "image/png": "[encoded data removed]"
          },
          "metadata": {}
        }
      ],
      "source": [
        "import matplotlib.pyplot as plt\n",
        "fig = plt.figure(figsize=(6, 6))\n",
        "ax1 = fig.add_subplot(1, 2, 1)# subplots pour permettre de créer plusieurs graphes dans une même figure\n",
        "ax1.imshow(test_images[0], cmap=plt.cm.binary)\n",
        "ax2 = fig.add_subplot(1, 2, 2)\n",
        "ax2.imshow(test_images[1], cmap=plt.cm.binary)\n",
        "plt.show()"
      ]
    },
    {
      "cell_type": "code",
      "execution_count": 34,
      "metadata": {
        "colab": {
          "base_uri": "https://localhost:8080/",
          "height": 273
        },
        "id": "lfbC3YQ8PPcm",
        "outputId": "be075af5-e93c-4692-aff5-bf26404e2c99"
      },
      "outputs": [
        {
          "output_type": "display_data",
          "data": {
            "text/plain": [
              "<Figure size 600x600 with 2 Axes>"
            ],
            "image/png": "[encoded data removed]"
          },
          "metadata": {}
        }
      ],
      "source": [
        "# autre affichage....\n",
        "fig = plt.figure(figsize=(6, 6))\n",
        "ax1 = fig.add_subplot(1, 2, 1)# subplots pour permettre de créer plusieurs graphes dans une même figure\n",
        "ax1.imshow(test_images[0], cmap=\"gray\")\n",
        "ax2 = fig.add_subplot(1, 2, 2)\n",
        "ax2.imshow(test_images[1], cmap=plt.cm.binary)\n",
        "\n",
        "plt.show()"
      ]
    },
    {
      "cell_type": "markdown",
      "metadata": {
        "id": "V6830KTtPPcm"
      },
      "source": [
        "**Prédictions avec une image dessinée sur paint.**"
      ]
    },
    {
      "cell_type": "code",
      "execution_count": 36,
      "metadata": {
        "colab": {
          "base_uri": "https://localhost:8080/",
          "height": 447
        },
        "id": "SZDjz7xGPPcm",
        "outputId": "d105b5b0-d22c-452c-a3d5-e82d5079b30a"
      },
      "outputs": [
        {
          "output_type": "execute_result",
          "data": {
            "text/plain": [
              "<matplotlib.image.AxesImage at 0x79f0cd044190>"
            ]
          },
          "metadata": {},
          "execution_count": 36
        },
        {
          "output_type": "display_data",
          "data": {
            "text/plain": [
              "<Figure size 640x480 with 1 Axes>"
            ],
            "image/png": "[encoded data removed]"
          },
          "metadata": {}
        }
      ],
      "source": [
        "# reading png image file\n",
        "import matplotlib.pyplot as plt\n",
        "import matplotlib.image as img\n",
        "im = img.imread('/content/IA_FABLAB/Digit_recognition-opencv/images/digit_5.png')\n",
        "plt.imshow(im, cmap=plt.cm.binary)\n",
        "#print(im.shape)\n",
        "#print(img.shape)"
      ]
    },
    {
      "cell_type": "markdown",
      "metadata": {
        "id": "l659heSqPPcm"
      },
      "source": [
        "**Préparation de l'image dessinée et prédiction**"
      ]
    },
    {
      "cell_type": "code",
      "execution_count": 37,
      "metadata": {
        "colab": {
          "base_uri": "https://localhost:8080/"
        },
        "id": "oOuqugPEPPcm",
        "outputId": "69cffb36-e4cc-430c-e2f6-18238364a83f"
      },
      "outputs": [
        {
          "output_type": "stream",
          "name": "stdout",
          "text": [
            "1/1 [==============================] - 0s 72ms/step\n",
            "[[0.   0.   0.   0.   0.   0.92 0.01 0.   0.07 0.  ]]\n",
            "Chiffre prédit :  5\n"
          ]
        }
      ],
      "source": [
        "from PIL import Image, ImageOps\n",
        "import numpy as np\n",
        "def preprocess_image(image_path):# préparation de l'image\n",
        "    img = Image.open(image_path).convert('L')  # Convertir en niveau de gris grayscale\n",
        "    img = ImageOps.invert(img)                 # inverse l'image pour qu'elle soit conforme aux images MNIST\n",
        "    img = img.resize((28, 28))                 # Redimensionnement à 28x28\n",
        "    img = np.array(img)                        # Convertir en tableau numpy\n",
        "    img = img / 255.0                          # on normalise les valeurs des pixels\n",
        "    img = img.reshape(1, 28*28)               # redimensionne en 784 = 28*28 (entrée du réseau)\n",
        "    return img\n",
        "\n",
        "processed_image = preprocess_image('/content/IA_FABLAB/Digit_recognition-opencv/images/digit_5.png')\n",
        "predictions= model.predict(processed_image)# prévision\n",
        "\n",
        "print(predictions.round(2)) # résultat\n",
        "print(\"Chiffre prédit : \", predictions.argmax())# index  of the class with highest probability\n",
        ""
      ]
    }
  ],
  "metadata": {
    "kernelspec": {
      "display_name": "Python 3",
      "language": "python",
      "name": "python3"
    },
    "language_info": {
      "codemirror_mode": {
        "name": "ipython",
        "version": 3
      },
      "file_extension": ".py",
      "mimetype": "text/x-python",
      "name": "python",
      "nbconvert_exporter": "python",
      "pygments_lexer": "ipython3",
      "version": "3.11.2"
    },
    "colab": {
      "provenance": [],
      "include_colab_link": true
    }
  },
  "nbformat": 4,
  "nbformat_minor": 0
}